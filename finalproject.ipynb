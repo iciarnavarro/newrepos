{
 "cells": [
  {
   "cell_type": "markdown",
   "metadata": {},
   "source": [
    "### Final Project, Programming with Python, Iciar Navarro Duran"
   ]
  },
  {
   "cell_type": "markdown",
   "metadata": {},
   "source": [
    "#### Problem 1. (70 pts). Your task is to analyze and draw insight and conclusions from the dataset births.xlsx provided to you."
   ]
  },
  {
   "cell_type": "markdown",
   "metadata": {},
   "source": [
    "##### 1.1 Read the data from the given file and create a data frame.\n",
    "• Conduct due data inspection, data cleaning, data reformatting as needed."
   ]
  },
  {
   "cell_type": "code",
   "execution_count": 1,
   "metadata": {},
   "outputs": [],
   "source": [
    "import pandas as pd\n",
    "import numpy as np\n",
    "\n",
    "pd.set_option('display.precision',2)"
   ]
  },
  {
   "cell_type": "code",
   "execution_count": 2,
   "metadata": {
    "scrolled": false
   },
   "outputs": [
    {
     "data": {
      "text/html": [
       "<div>\n",
       "<style scoped>\n",
       "    .dataframe tbody tr th:only-of-type {\n",
       "        vertical-align: middle;\n",
       "    }\n",
       "\n",
       "    .dataframe tbody tr th {\n",
       "        vertical-align: top;\n",
       "    }\n",
       "\n",
       "    .dataframe thead th {\n",
       "        text-align: right;\n",
       "    }\n",
       "</style>\n",
       "<table border=\"1\" class=\"dataframe\">\n",
       "  <thead>\n",
       "    <tr style=\"text-align: right;\">\n",
       "      <th></th>\n",
       "      <th>birth_year</th>\n",
       "      <th>gender</th>\n",
       "      <th>ethnicity</th>\n",
       "      <th>first_name</th>\n",
       "      <th>frequency</th>\n",
       "    </tr>\n",
       "  </thead>\n",
       "  <tbody>\n",
       "    <tr>\n",
       "      <th>0</th>\n",
       "      <td>2011</td>\n",
       "      <td>female</td>\n",
       "      <td>hispanic</td>\n",
       "      <td>geraldine</td>\n",
       "      <td>13</td>\n",
       "    </tr>\n",
       "    <tr>\n",
       "      <th>1</th>\n",
       "      <td>2011</td>\n",
       "      <td>female</td>\n",
       "      <td>hispanic</td>\n",
       "      <td>gia</td>\n",
       "      <td>21</td>\n",
       "    </tr>\n",
       "    <tr>\n",
       "      <th>2</th>\n",
       "      <td>2011</td>\n",
       "      <td>female</td>\n",
       "      <td>hispanic</td>\n",
       "      <td>gianna</td>\n",
       "      <td>49</td>\n",
       "    </tr>\n",
       "    <tr>\n",
       "      <th>3</th>\n",
       "      <td>2011</td>\n",
       "      <td>female</td>\n",
       "      <td>hispanic</td>\n",
       "      <td>giselle</td>\n",
       "      <td>38</td>\n",
       "    </tr>\n",
       "    <tr>\n",
       "      <th>4</th>\n",
       "      <td>2011</td>\n",
       "      <td>female</td>\n",
       "      <td>hispanic</td>\n",
       "      <td>grace</td>\n",
       "      <td>36</td>\n",
       "    </tr>\n",
       "    <tr>\n",
       "      <th>...</th>\n",
       "      <td>...</td>\n",
       "      <td>...</td>\n",
       "      <td>...</td>\n",
       "      <td>...</td>\n",
       "      <td>...</td>\n",
       "    </tr>\n",
       "    <tr>\n",
       "      <th>37532</th>\n",
       "      <td>2014</td>\n",
       "      <td>male</td>\n",
       "      <td>white non hispanic</td>\n",
       "      <td>yousef</td>\n",
       "      <td>18</td>\n",
       "    </tr>\n",
       "    <tr>\n",
       "      <th>37533</th>\n",
       "      <td>2014</td>\n",
       "      <td>male</td>\n",
       "      <td>white non hispanic</td>\n",
       "      <td>youssef</td>\n",
       "      <td>24</td>\n",
       "    </tr>\n",
       "    <tr>\n",
       "      <th>37534</th>\n",
       "      <td>2014</td>\n",
       "      <td>male</td>\n",
       "      <td>white non hispanic</td>\n",
       "      <td>yusuf</td>\n",
       "      <td>16</td>\n",
       "    </tr>\n",
       "    <tr>\n",
       "      <th>37535</th>\n",
       "      <td>2014</td>\n",
       "      <td>male</td>\n",
       "      <td>white non hispanic</td>\n",
       "      <td>zachary</td>\n",
       "      <td>90</td>\n",
       "    </tr>\n",
       "    <tr>\n",
       "      <th>37536</th>\n",
       "      <td>2014</td>\n",
       "      <td>male</td>\n",
       "      <td>white non hispanic</td>\n",
       "      <td>zev</td>\n",
       "      <td>49</td>\n",
       "    </tr>\n",
       "  </tbody>\n",
       "</table>\n",
       "<p>37537 rows × 5 columns</p>\n",
       "</div>"
      ],
      "text/plain": [
       "       birth_year  gender           ethnicity first_name  frequency\n",
       "0            2011  female            hispanic  geraldine         13\n",
       "1            2011  female            hispanic        gia         21\n",
       "2            2011  female            hispanic     gianna         49\n",
       "3            2011  female            hispanic    giselle         38\n",
       "4            2011  female            hispanic      grace         36\n",
       "...           ...     ...                 ...        ...        ...\n",
       "37532        2014    male  white non hispanic     yousef         18\n",
       "37533        2014    male  white non hispanic    youssef         24\n",
       "37534        2014    male  white non hispanic      yusuf         16\n",
       "37535        2014    male  white non hispanic    zachary         90\n",
       "37536        2014    male  white non hispanic        zev         49\n",
       "\n",
       "[37537 rows x 5 columns]"
      ]
     },
     "execution_count": 2,
     "metadata": {},
     "output_type": "execute_result"
    }
   ],
   "source": [
    "data = pd.read_excel(\"births.xlsx\")\n",
    "data"
   ]
  },
  {
   "cell_type": "code",
   "execution_count": 3,
   "metadata": {},
   "outputs": [
    {
     "data": {
      "text/html": [
       "<div>\n",
       "<style scoped>\n",
       "    .dataframe tbody tr th:only-of-type {\n",
       "        vertical-align: middle;\n",
       "    }\n",
       "\n",
       "    .dataframe tbody tr th {\n",
       "        vertical-align: top;\n",
       "    }\n",
       "\n",
       "    .dataframe thead th {\n",
       "        text-align: right;\n",
       "    }\n",
       "</style>\n",
       "<table border=\"1\" class=\"dataframe\">\n",
       "  <thead>\n",
       "    <tr style=\"text-align: right;\">\n",
       "      <th></th>\n",
       "      <th>birth_year</th>\n",
       "      <th>gender</th>\n",
       "      <th>ethnicity</th>\n",
       "      <th>first_name</th>\n",
       "      <th>frequency</th>\n",
       "    </tr>\n",
       "  </thead>\n",
       "  <tbody>\n",
       "    <tr>\n",
       "      <th>0</th>\n",
       "      <td>2011</td>\n",
       "      <td>female</td>\n",
       "      <td>hispanic</td>\n",
       "      <td>geraldine</td>\n",
       "      <td>13</td>\n",
       "    </tr>\n",
       "    <tr>\n",
       "      <th>1</th>\n",
       "      <td>2011</td>\n",
       "      <td>female</td>\n",
       "      <td>hispanic</td>\n",
       "      <td>gia</td>\n",
       "      <td>21</td>\n",
       "    </tr>\n",
       "    <tr>\n",
       "      <th>2</th>\n",
       "      <td>2011</td>\n",
       "      <td>female</td>\n",
       "      <td>hispanic</td>\n",
       "      <td>gianna</td>\n",
       "      <td>49</td>\n",
       "    </tr>\n",
       "    <tr>\n",
       "      <th>3</th>\n",
       "      <td>2011</td>\n",
       "      <td>female</td>\n",
       "      <td>hispanic</td>\n",
       "      <td>giselle</td>\n",
       "      <td>38</td>\n",
       "    </tr>\n",
       "    <tr>\n",
       "      <th>4</th>\n",
       "      <td>2011</td>\n",
       "      <td>female</td>\n",
       "      <td>hispanic</td>\n",
       "      <td>grace</td>\n",
       "      <td>36</td>\n",
       "    </tr>\n",
       "  </tbody>\n",
       "</table>\n",
       "</div>"
      ],
      "text/plain": [
       "   birth_year  gender ethnicity first_name  frequency\n",
       "0        2011  female  hispanic  geraldine         13\n",
       "1        2011  female  hispanic        gia         21\n",
       "2        2011  female  hispanic     gianna         49\n",
       "3        2011  female  hispanic    giselle         38\n",
       "4        2011  female  hispanic      grace         36"
      ]
     },
     "execution_count": 3,
     "metadata": {},
     "output_type": "execute_result"
    }
   ],
   "source": [
    "data.head()"
   ]
  },
  {
   "cell_type": "code",
   "execution_count": 4,
   "metadata": {},
   "outputs": [
    {
     "data": {
      "text/html": [
       "<div>\n",
       "<style scoped>\n",
       "    .dataframe tbody tr th:only-of-type {\n",
       "        vertical-align: middle;\n",
       "    }\n",
       "\n",
       "    .dataframe tbody tr th {\n",
       "        vertical-align: top;\n",
       "    }\n",
       "\n",
       "    .dataframe thead th {\n",
       "        text-align: right;\n",
       "    }\n",
       "</style>\n",
       "<table border=\"1\" class=\"dataframe\">\n",
       "  <thead>\n",
       "    <tr style=\"text-align: right;\">\n",
       "      <th></th>\n",
       "      <th>birth_year</th>\n",
       "      <th>gender</th>\n",
       "      <th>ethnicity</th>\n",
       "      <th>first_name</th>\n",
       "      <th>frequency</th>\n",
       "    </tr>\n",
       "  </thead>\n",
       "  <tbody>\n",
       "    <tr>\n",
       "      <th>37532</th>\n",
       "      <td>2014</td>\n",
       "      <td>male</td>\n",
       "      <td>white non hispanic</td>\n",
       "      <td>yousef</td>\n",
       "      <td>18</td>\n",
       "    </tr>\n",
       "    <tr>\n",
       "      <th>37533</th>\n",
       "      <td>2014</td>\n",
       "      <td>male</td>\n",
       "      <td>white non hispanic</td>\n",
       "      <td>youssef</td>\n",
       "      <td>24</td>\n",
       "    </tr>\n",
       "    <tr>\n",
       "      <th>37534</th>\n",
       "      <td>2014</td>\n",
       "      <td>male</td>\n",
       "      <td>white non hispanic</td>\n",
       "      <td>yusuf</td>\n",
       "      <td>16</td>\n",
       "    </tr>\n",
       "    <tr>\n",
       "      <th>37535</th>\n",
       "      <td>2014</td>\n",
       "      <td>male</td>\n",
       "      <td>white non hispanic</td>\n",
       "      <td>zachary</td>\n",
       "      <td>90</td>\n",
       "    </tr>\n",
       "    <tr>\n",
       "      <th>37536</th>\n",
       "      <td>2014</td>\n",
       "      <td>male</td>\n",
       "      <td>white non hispanic</td>\n",
       "      <td>zev</td>\n",
       "      <td>49</td>\n",
       "    </tr>\n",
       "  </tbody>\n",
       "</table>\n",
       "</div>"
      ],
      "text/plain": [
       "       birth_year gender           ethnicity first_name  frequency\n",
       "37532        2014   male  white non hispanic     yousef         18\n",
       "37533        2014   male  white non hispanic    youssef         24\n",
       "37534        2014   male  white non hispanic      yusuf         16\n",
       "37535        2014   male  white non hispanic    zachary         90\n",
       "37536        2014   male  white non hispanic        zev         49"
      ]
     },
     "execution_count": 4,
     "metadata": {},
     "output_type": "execute_result"
    }
   ],
   "source": [
    "data.tail()"
   ]
  },
  {
   "cell_type": "code",
   "execution_count": 5,
   "metadata": {},
   "outputs": [
    {
     "data": {
      "text/plain": [
       "(37537, 5)"
      ]
     },
     "execution_count": 5,
     "metadata": {},
     "output_type": "execute_result"
    }
   ],
   "source": [
    "data.shape"
   ]
  },
  {
   "cell_type": "code",
   "execution_count": 6,
   "metadata": {
    "scrolled": true
   },
   "outputs": [
    {
     "data": {
      "text/plain": [
       "187685"
      ]
     },
     "execution_count": 6,
     "metadata": {},
     "output_type": "execute_result"
    }
   ],
   "source": [
    "data.size"
   ]
  },
  {
   "cell_type": "markdown",
   "metadata": {},
   "source": [
    "Returns the number of elements in the DataFrame."
   ]
  },
  {
   "cell_type": "code",
   "execution_count": 7,
   "metadata": {
    "scrolled": true
   },
   "outputs": [
    {
     "data": {
      "text/plain": [
       "Index(['birth_year', 'gender', 'ethnicity', 'first_name', 'frequency'], dtype='object')"
      ]
     },
     "execution_count": 7,
     "metadata": {},
     "output_type": "execute_result"
    }
   ],
   "source": [
    "data.columns"
   ]
  },
  {
   "cell_type": "code",
   "execution_count": 8,
   "metadata": {},
   "outputs": [
    {
     "data": {
      "text/plain": [
       "RangeIndex(start=0, stop=37537, step=1)"
      ]
     },
     "execution_count": 8,
     "metadata": {},
     "output_type": "execute_result"
    }
   ],
   "source": [
    "data.index"
   ]
  },
  {
   "cell_type": "code",
   "execution_count": 9,
   "metadata": {},
   "outputs": [
    {
     "data": {
      "text/plain": [
       "birth_year     int64\n",
       "gender        object\n",
       "ethnicity     object\n",
       "first_name    object\n",
       "frequency      int64\n",
       "dtype: object"
      ]
     },
     "execution_count": 9,
     "metadata": {},
     "output_type": "execute_result"
    }
   ],
   "source": [
    "data.dtypes"
   ]
  },
  {
   "cell_type": "code",
   "execution_count": 10,
   "metadata": {},
   "outputs": [
    {
     "data": {
      "text/plain": [
       "<bound method DataFrame.info of        birth_year  gender           ethnicity first_name  frequency\n",
       "0            2011  female            hispanic  geraldine         13\n",
       "1            2011  female            hispanic        gia         21\n",
       "2            2011  female            hispanic     gianna         49\n",
       "3            2011  female            hispanic    giselle         38\n",
       "4            2011  female            hispanic      grace         36\n",
       "...           ...     ...                 ...        ...        ...\n",
       "37532        2014    male  white non hispanic     yousef         18\n",
       "37533        2014    male  white non hispanic    youssef         24\n",
       "37534        2014    male  white non hispanic      yusuf         16\n",
       "37535        2014    male  white non hispanic    zachary         90\n",
       "37536        2014    male  white non hispanic        zev         49\n",
       "\n",
       "[37537 rows x 5 columns]>"
      ]
     },
     "execution_count": 10,
     "metadata": {},
     "output_type": "execute_result"
    }
   ],
   "source": [
    "data.info"
   ]
  },
  {
   "cell_type": "code",
   "execution_count": 11,
   "metadata": {},
   "outputs": [
    {
     "data": {
      "text/html": [
       "<div>\n",
       "<style scoped>\n",
       "    .dataframe tbody tr th:only-of-type {\n",
       "        vertical-align: middle;\n",
       "    }\n",
       "\n",
       "    .dataframe tbody tr th {\n",
       "        vertical-align: top;\n",
       "    }\n",
       "\n",
       "    .dataframe thead th {\n",
       "        text-align: right;\n",
       "    }\n",
       "</style>\n",
       "<table border=\"1\" class=\"dataframe\">\n",
       "  <thead>\n",
       "    <tr style=\"text-align: right;\">\n",
       "      <th></th>\n",
       "      <th>birth_year</th>\n",
       "      <th>frequency</th>\n",
       "    </tr>\n",
       "  </thead>\n",
       "  <tbody>\n",
       "    <tr>\n",
       "      <th>count</th>\n",
       "      <td>37537.00</td>\n",
       "      <td>37537.00</td>\n",
       "    </tr>\n",
       "    <tr>\n",
       "      <th>mean</th>\n",
       "      <td>2013.07</td>\n",
       "      <td>33.91</td>\n",
       "    </tr>\n",
       "    <tr>\n",
       "      <th>std</th>\n",
       "      <td>1.67</td>\n",
       "      <td>38.96</td>\n",
       "    </tr>\n",
       "    <tr>\n",
       "      <th>min</th>\n",
       "      <td>2011.00</td>\n",
       "      <td>10.00</td>\n",
       "    </tr>\n",
       "    <tr>\n",
       "      <th>25%</th>\n",
       "      <td>2012.00</td>\n",
       "      <td>13.00</td>\n",
       "    </tr>\n",
       "    <tr>\n",
       "      <th>50%</th>\n",
       "      <td>2013.00</td>\n",
       "      <td>20.00</td>\n",
       "    </tr>\n",
       "    <tr>\n",
       "      <th>75%</th>\n",
       "      <td>2014.00</td>\n",
       "      <td>36.00</td>\n",
       "    </tr>\n",
       "    <tr>\n",
       "      <th>max</th>\n",
       "      <td>2017.00</td>\n",
       "      <td>426.00</td>\n",
       "    </tr>\n",
       "  </tbody>\n",
       "</table>\n",
       "</div>"
      ],
      "text/plain": [
       "       birth_year  frequency\n",
       "count    37537.00   37537.00\n",
       "mean      2013.07      33.91\n",
       "std          1.67      38.96\n",
       "min       2011.00      10.00\n",
       "25%       2012.00      13.00\n",
       "50%       2013.00      20.00\n",
       "75%       2014.00      36.00\n",
       "max       2017.00     426.00"
      ]
     },
     "execution_count": 11,
     "metadata": {},
     "output_type": "execute_result"
    }
   ],
   "source": [
    "data.describe()"
   ]
  },
  {
   "cell_type": "code",
   "execution_count": 12,
   "metadata": {},
   "outputs": [
    {
     "data": {
      "text/html": [
       "<div>\n",
       "<style scoped>\n",
       "    .dataframe tbody tr th:only-of-type {\n",
       "        vertical-align: middle;\n",
       "    }\n",
       "\n",
       "    .dataframe tbody tr th {\n",
       "        vertical-align: top;\n",
       "    }\n",
       "\n",
       "    .dataframe thead th {\n",
       "        text-align: right;\n",
       "    }\n",
       "</style>\n",
       "<table border=\"1\" class=\"dataframe\">\n",
       "  <thead>\n",
       "    <tr style=\"text-align: right;\">\n",
       "      <th></th>\n",
       "      <th>birth_year</th>\n",
       "      <th>gender</th>\n",
       "      <th>ethnicity</th>\n",
       "      <th>first_name</th>\n",
       "      <th>frequency</th>\n",
       "    </tr>\n",
       "  </thead>\n",
       "  <tbody>\n",
       "    <tr>\n",
       "      <th>0</th>\n",
       "      <td>False</td>\n",
       "      <td>False</td>\n",
       "      <td>False</td>\n",
       "      <td>False</td>\n",
       "      <td>False</td>\n",
       "    </tr>\n",
       "    <tr>\n",
       "      <th>1</th>\n",
       "      <td>False</td>\n",
       "      <td>False</td>\n",
       "      <td>False</td>\n",
       "      <td>False</td>\n",
       "      <td>False</td>\n",
       "    </tr>\n",
       "    <tr>\n",
       "      <th>2</th>\n",
       "      <td>False</td>\n",
       "      <td>False</td>\n",
       "      <td>False</td>\n",
       "      <td>False</td>\n",
       "      <td>False</td>\n",
       "    </tr>\n",
       "    <tr>\n",
       "      <th>3</th>\n",
       "      <td>False</td>\n",
       "      <td>False</td>\n",
       "      <td>False</td>\n",
       "      <td>False</td>\n",
       "      <td>False</td>\n",
       "    </tr>\n",
       "    <tr>\n",
       "      <th>4</th>\n",
       "      <td>False</td>\n",
       "      <td>False</td>\n",
       "      <td>False</td>\n",
       "      <td>False</td>\n",
       "      <td>False</td>\n",
       "    </tr>\n",
       "    <tr>\n",
       "      <th>...</th>\n",
       "      <td>...</td>\n",
       "      <td>...</td>\n",
       "      <td>...</td>\n",
       "      <td>...</td>\n",
       "      <td>...</td>\n",
       "    </tr>\n",
       "    <tr>\n",
       "      <th>37532</th>\n",
       "      <td>False</td>\n",
       "      <td>False</td>\n",
       "      <td>False</td>\n",
       "      <td>False</td>\n",
       "      <td>False</td>\n",
       "    </tr>\n",
       "    <tr>\n",
       "      <th>37533</th>\n",
       "      <td>False</td>\n",
       "      <td>False</td>\n",
       "      <td>False</td>\n",
       "      <td>False</td>\n",
       "      <td>False</td>\n",
       "    </tr>\n",
       "    <tr>\n",
       "      <th>37534</th>\n",
       "      <td>False</td>\n",
       "      <td>False</td>\n",
       "      <td>False</td>\n",
       "      <td>False</td>\n",
       "      <td>False</td>\n",
       "    </tr>\n",
       "    <tr>\n",
       "      <th>37535</th>\n",
       "      <td>False</td>\n",
       "      <td>False</td>\n",
       "      <td>False</td>\n",
       "      <td>False</td>\n",
       "      <td>False</td>\n",
       "    </tr>\n",
       "    <tr>\n",
       "      <th>37536</th>\n",
       "      <td>False</td>\n",
       "      <td>False</td>\n",
       "      <td>False</td>\n",
       "      <td>False</td>\n",
       "      <td>False</td>\n",
       "    </tr>\n",
       "  </tbody>\n",
       "</table>\n",
       "<p>37537 rows × 5 columns</p>\n",
       "</div>"
      ],
      "text/plain": [
       "       birth_year  gender  ethnicity  first_name  frequency\n",
       "0           False   False      False       False      False\n",
       "1           False   False      False       False      False\n",
       "2           False   False      False       False      False\n",
       "3           False   False      False       False      False\n",
       "4           False   False      False       False      False\n",
       "...           ...     ...        ...         ...        ...\n",
       "37532       False   False      False       False      False\n",
       "37533       False   False      False       False      False\n",
       "37534       False   False      False       False      False\n",
       "37535       False   False      False       False      False\n",
       "37536       False   False      False       False      False\n",
       "\n",
       "[37537 rows x 5 columns]"
      ]
     },
     "execution_count": 12,
     "metadata": {},
     "output_type": "execute_result"
    }
   ],
   "source": [
    "data.isnull()"
   ]
  },
  {
   "cell_type": "code",
   "execution_count": 13,
   "metadata": {},
   "outputs": [
    {
     "data": {
      "text/plain": [
       "birth_year    False\n",
       "gender        False\n",
       "ethnicity     False\n",
       "first_name    False\n",
       "frequency     False\n",
       "dtype: bool"
      ]
     },
     "execution_count": 13,
     "metadata": {},
     "output_type": "execute_result"
    }
   ],
   "source": [
    "data.isnull().any()"
   ]
  },
  {
   "cell_type": "code",
   "execution_count": 14,
   "metadata": {},
   "outputs": [
    {
     "data": {
      "text/plain": [
       "birth_year    0\n",
       "gender        0\n",
       "ethnicity     0\n",
       "first_name    0\n",
       "frequency     0\n",
       "dtype: int64"
      ]
     },
     "execution_count": 14,
     "metadata": {},
     "output_type": "execute_result"
    }
   ],
   "source": [
    "data.isnull().sum()"
   ]
  },
  {
   "cell_type": "code",
   "execution_count": 15,
   "metadata": {},
   "outputs": [
    {
     "data": {
      "text/plain": [
       "0"
      ]
     },
     "execution_count": 15,
     "metadata": {},
     "output_type": "execute_result"
    }
   ],
   "source": [
    "data.isnull().any().sum()"
   ]
  },
  {
   "cell_type": "code",
   "execution_count": 17,
   "metadata": {},
   "outputs": [
    {
     "data": {
      "text/plain": [
       "1832"
      ]
     },
     "execution_count": 17,
     "metadata": {},
     "output_type": "execute_result"
    }
   ],
   "source": [
    "unique_names = len(pd.unique(data['first_name']))\n",
    "unique_names"
   ]
  },
  {
   "cell_type": "code",
   "execution_count": 18,
   "metadata": {},
   "outputs": [
    {
     "name": "stdout",
     "output_type": "stream",
     "text": [
      "852\n"
     ]
    }
   ],
   "source": [
    "data_firstname = data[data['gender'] == 'male']\n",
    "\n",
    "print(len(data_firstname['first_name'].unique()))"
   ]
  },
  {
   "cell_type": "code",
   "execution_count": 19,
   "metadata": {},
   "outputs": [
    {
     "name": "stdout",
     "output_type": "stream",
     "text": [
      "1011\n"
     ]
    }
   ],
   "source": [
    "data_firstname = data[data['gender'] == 'female']\n",
    "\n",
    "print(len(data_firstname['first_name'].unique()))"
   ]
  },
  {
   "cell_type": "markdown",
   "metadata": {},
   "source": [
    "There are no null values present in our dataset."
   ]
  },
  {
   "cell_type": "code",
   "execution_count": null,
   "metadata": {},
   "outputs": [],
   "source": []
  },
  {
   "cell_type": "code",
   "execution_count": 132,
   "metadata": {},
   "outputs": [
    {
     "data": {
      "text/plain": [
       "0        False\n",
       "1        False\n",
       "2        False\n",
       "3        False\n",
       "4        False\n",
       "         ...  \n",
       "37532     True\n",
       "37533     True\n",
       "37534     True\n",
       "37535     True\n",
       "37536     True\n",
       "Length: 37537, dtype: bool"
      ]
     },
     "execution_count": 132,
     "metadata": {},
     "output_type": "execute_result"
    }
   ],
   "source": [
    "data.duplicated()"
   ]
  },
  {
   "cell_type": "code",
   "execution_count": 133,
   "metadata": {},
   "outputs": [],
   "source": [
    "new_data = data"
   ]
  },
  {
   "cell_type": "code",
   "execution_count": 134,
   "metadata": {},
   "outputs": [
    {
     "data": {
      "text/plain": [
       "0        False\n",
       "1        False\n",
       "2        False\n",
       "3        False\n",
       "4        False\n",
       "         ...  \n",
       "37532     True\n",
       "37533     True\n",
       "37534     True\n",
       "37535     True\n",
       "37536     True\n",
       "Length: 37537, dtype: bool"
      ]
     },
     "execution_count": 134,
     "metadata": {},
     "output_type": "execute_result"
    }
   ],
   "source": [
    "new_data.duplicated()"
   ]
  },
  {
   "cell_type": "code",
   "execution_count": 135,
   "metadata": {},
   "outputs": [],
   "source": [
    "new_data.drop_duplicates(inplace = True)"
   ]
  },
  {
   "cell_type": "code",
   "execution_count": 136,
   "metadata": {},
   "outputs": [
    {
     "data": {
      "text/html": [
       "<div>\n",
       "<style scoped>\n",
       "    .dataframe tbody tr th:only-of-type {\n",
       "        vertical-align: middle;\n",
       "    }\n",
       "\n",
       "    .dataframe tbody tr th {\n",
       "        vertical-align: top;\n",
       "    }\n",
       "\n",
       "    .dataframe thead th {\n",
       "        text-align: right;\n",
       "    }\n",
       "</style>\n",
       "<table border=\"1\" class=\"dataframe\">\n",
       "  <thead>\n",
       "    <tr style=\"text-align: right;\">\n",
       "      <th></th>\n",
       "      <th>birth_year</th>\n",
       "      <th>gender</th>\n",
       "      <th>ethnicity</th>\n",
       "      <th>first_name</th>\n",
       "      <th>frequency</th>\n",
       "    </tr>\n",
       "  </thead>\n",
       "  <tbody>\n",
       "    <tr>\n",
       "      <th>0</th>\n",
       "      <td>2011</td>\n",
       "      <td>female</td>\n",
       "      <td>hispanic</td>\n",
       "      <td>geraldine</td>\n",
       "      <td>13</td>\n",
       "    </tr>\n",
       "    <tr>\n",
       "      <th>1</th>\n",
       "      <td>2011</td>\n",
       "      <td>female</td>\n",
       "      <td>hispanic</td>\n",
       "      <td>gia</td>\n",
       "      <td>21</td>\n",
       "    </tr>\n",
       "    <tr>\n",
       "      <th>2</th>\n",
       "      <td>2011</td>\n",
       "      <td>female</td>\n",
       "      <td>hispanic</td>\n",
       "      <td>gianna</td>\n",
       "      <td>49</td>\n",
       "    </tr>\n",
       "    <tr>\n",
       "      <th>3</th>\n",
       "      <td>2011</td>\n",
       "      <td>female</td>\n",
       "      <td>hispanic</td>\n",
       "      <td>giselle</td>\n",
       "      <td>38</td>\n",
       "    </tr>\n",
       "    <tr>\n",
       "      <th>4</th>\n",
       "      <td>2011</td>\n",
       "      <td>female</td>\n",
       "      <td>hispanic</td>\n",
       "      <td>grace</td>\n",
       "      <td>36</td>\n",
       "    </tr>\n",
       "    <tr>\n",
       "      <th>...</th>\n",
       "      <td>...</td>\n",
       "      <td>...</td>\n",
       "      <td>...</td>\n",
       "      <td>...</td>\n",
       "      <td>...</td>\n",
       "    </tr>\n",
       "    <tr>\n",
       "      <th>29459</th>\n",
       "      <td>2016</td>\n",
       "      <td>female</td>\n",
       "      <td>hispanic</td>\n",
       "      <td>alayna</td>\n",
       "      <td>10</td>\n",
       "    </tr>\n",
       "    <tr>\n",
       "      <th>29460</th>\n",
       "      <td>2015</td>\n",
       "      <td>female</td>\n",
       "      <td>hispanic</td>\n",
       "      <td>yaritza</td>\n",
       "      <td>12</td>\n",
       "    </tr>\n",
       "    <tr>\n",
       "      <th>29461</th>\n",
       "      <td>2015</td>\n",
       "      <td>male</td>\n",
       "      <td>white non hispanic</td>\n",
       "      <td>mendel</td>\n",
       "      <td>42</td>\n",
       "    </tr>\n",
       "    <tr>\n",
       "      <th>29462</th>\n",
       "      <td>2016</td>\n",
       "      <td>male</td>\n",
       "      <td>asian and pacific islander</td>\n",
       "      <td>isaac</td>\n",
       "      <td>21</td>\n",
       "    </tr>\n",
       "    <tr>\n",
       "      <th>29463</th>\n",
       "      <td>2015</td>\n",
       "      <td>female</td>\n",
       "      <td>white non hispanic</td>\n",
       "      <td>alessia</td>\n",
       "      <td>12</td>\n",
       "    </tr>\n",
       "  </tbody>\n",
       "</table>\n",
       "<p>14154 rows × 5 columns</p>\n",
       "</div>"
      ],
      "text/plain": [
       "       birth_year  gender                   ethnicity first_name  frequency\n",
       "0            2011  female                    hispanic  geraldine         13\n",
       "1            2011  female                    hispanic        gia         21\n",
       "2            2011  female                    hispanic     gianna         49\n",
       "3            2011  female                    hispanic    giselle         38\n",
       "4            2011  female                    hispanic      grace         36\n",
       "...           ...     ...                         ...        ...        ...\n",
       "29459        2016  female                    hispanic     alayna         10\n",
       "29460        2015  female                    hispanic    yaritza         12\n",
       "29461        2015    male          white non hispanic     mendel         42\n",
       "29462        2016    male  asian and pacific islander      isaac         21\n",
       "29463        2015  female          white non hispanic    alessia         12\n",
       "\n",
       "[14154 rows x 5 columns]"
      ]
     },
     "execution_count": 136,
     "metadata": {},
     "output_type": "execute_result"
    }
   ],
   "source": [
    "new_data"
   ]
  },
  {
   "cell_type": "code",
   "execution_count": 137,
   "metadata": {},
   "outputs": [
    {
     "data": {
      "text/plain": [
       "0        False\n",
       "1        False\n",
       "2        False\n",
       "3        False\n",
       "4        False\n",
       "         ...  \n",
       "29459    False\n",
       "29460    False\n",
       "29461    False\n",
       "29462    False\n",
       "29463    False\n",
       "Length: 14154, dtype: bool"
      ]
     },
     "execution_count": 137,
     "metadata": {},
     "output_type": "execute_result"
    }
   ],
   "source": [
    "new_data.duplicated()"
   ]
  },
  {
   "cell_type": "code",
   "execution_count": 138,
   "metadata": {},
   "outputs": [
    {
     "data": {
      "text/html": [
       "<div>\n",
       "<style scoped>\n",
       "    .dataframe tbody tr th:only-of-type {\n",
       "        vertical-align: middle;\n",
       "    }\n",
       "\n",
       "    .dataframe tbody tr th {\n",
       "        vertical-align: top;\n",
       "    }\n",
       "\n",
       "    .dataframe thead th {\n",
       "        text-align: right;\n",
       "    }\n",
       "</style>\n",
       "<table border=\"1\" class=\"dataframe\">\n",
       "  <thead>\n",
       "    <tr style=\"text-align: right;\">\n",
       "      <th></th>\n",
       "      <th>birth_year</th>\n",
       "      <th>gender</th>\n",
       "      <th>ethnicity</th>\n",
       "      <th>first_name</th>\n",
       "      <th>frequency</th>\n",
       "    </tr>\n",
       "  </thead>\n",
       "  <tbody>\n",
       "    <tr>\n",
       "      <th>0</th>\n",
       "      <td>2011</td>\n",
       "      <td>female</td>\n",
       "      <td>hispanic</td>\n",
       "      <td>geraldine</td>\n",
       "      <td>13</td>\n",
       "    </tr>\n",
       "    <tr>\n",
       "      <th>1</th>\n",
       "      <td>2011</td>\n",
       "      <td>female</td>\n",
       "      <td>hispanic</td>\n",
       "      <td>gia</td>\n",
       "      <td>21</td>\n",
       "    </tr>\n",
       "    <tr>\n",
       "      <th>2</th>\n",
       "      <td>2011</td>\n",
       "      <td>female</td>\n",
       "      <td>hispanic</td>\n",
       "      <td>gianna</td>\n",
       "      <td>49</td>\n",
       "    </tr>\n",
       "    <tr>\n",
       "      <th>3</th>\n",
       "      <td>2011</td>\n",
       "      <td>female</td>\n",
       "      <td>hispanic</td>\n",
       "      <td>giselle</td>\n",
       "      <td>38</td>\n",
       "    </tr>\n",
       "    <tr>\n",
       "      <th>4</th>\n",
       "      <td>2011</td>\n",
       "      <td>female</td>\n",
       "      <td>hispanic</td>\n",
       "      <td>grace</td>\n",
       "      <td>36</td>\n",
       "    </tr>\n",
       "    <tr>\n",
       "      <th>...</th>\n",
       "      <td>...</td>\n",
       "      <td>...</td>\n",
       "      <td>...</td>\n",
       "      <td>...</td>\n",
       "      <td>...</td>\n",
       "    </tr>\n",
       "    <tr>\n",
       "      <th>29459</th>\n",
       "      <td>2016</td>\n",
       "      <td>female</td>\n",
       "      <td>hispanic</td>\n",
       "      <td>alayna</td>\n",
       "      <td>10</td>\n",
       "    </tr>\n",
       "    <tr>\n",
       "      <th>29460</th>\n",
       "      <td>2015</td>\n",
       "      <td>female</td>\n",
       "      <td>hispanic</td>\n",
       "      <td>yaritza</td>\n",
       "      <td>12</td>\n",
       "    </tr>\n",
       "    <tr>\n",
       "      <th>29461</th>\n",
       "      <td>2015</td>\n",
       "      <td>male</td>\n",
       "      <td>white non hispanic</td>\n",
       "      <td>mendel</td>\n",
       "      <td>42</td>\n",
       "    </tr>\n",
       "    <tr>\n",
       "      <th>29462</th>\n",
       "      <td>2016</td>\n",
       "      <td>male</td>\n",
       "      <td>asian and pacific islander</td>\n",
       "      <td>isaac</td>\n",
       "      <td>21</td>\n",
       "    </tr>\n",
       "    <tr>\n",
       "      <th>29463</th>\n",
       "      <td>2015</td>\n",
       "      <td>female</td>\n",
       "      <td>white non hispanic</td>\n",
       "      <td>alessia</td>\n",
       "      <td>12</td>\n",
       "    </tr>\n",
       "  </tbody>\n",
       "</table>\n",
       "<p>14154 rows × 5 columns</p>\n",
       "</div>"
      ],
      "text/plain": [
       "       birth_year  gender                   ethnicity first_name  frequency\n",
       "0            2011  female                    hispanic  geraldine         13\n",
       "1            2011  female                    hispanic        gia         21\n",
       "2            2011  female                    hispanic     gianna         49\n",
       "3            2011  female                    hispanic    giselle         38\n",
       "4            2011  female                    hispanic      grace         36\n",
       "...           ...     ...                         ...        ...        ...\n",
       "29459        2016  female                    hispanic     alayna         10\n",
       "29460        2015  female                    hispanic    yaritza         12\n",
       "29461        2015    male          white non hispanic     mendel         42\n",
       "29462        2016    male  asian and pacific islander      isaac         21\n",
       "29463        2015  female          white non hispanic    alessia         12\n",
       "\n",
       "[14154 rows x 5 columns]"
      ]
     },
     "execution_count": 138,
     "metadata": {},
     "output_type": "execute_result"
    }
   ],
   "source": [
    "data"
   ]
  },
  {
   "cell_type": "code",
   "execution_count": 139,
   "metadata": {},
   "outputs": [
    {
     "data": {
      "text/html": [
       "<div>\n",
       "<style scoped>\n",
       "    .dataframe tbody tr th:only-of-type {\n",
       "        vertical-align: middle;\n",
       "    }\n",
       "\n",
       "    .dataframe tbody tr th {\n",
       "        vertical-align: top;\n",
       "    }\n",
       "\n",
       "    .dataframe thead th {\n",
       "        text-align: right;\n",
       "    }\n",
       "</style>\n",
       "<table border=\"1\" class=\"dataframe\">\n",
       "  <thead>\n",
       "    <tr style=\"text-align: right;\">\n",
       "      <th></th>\n",
       "      <th>birth_year</th>\n",
       "      <th>frequency</th>\n",
       "    </tr>\n",
       "  </thead>\n",
       "  <tbody>\n",
       "    <tr>\n",
       "      <th>birth_year</th>\n",
       "      <td>1.00</td>\n",
       "      <td>-0.02</td>\n",
       "    </tr>\n",
       "    <tr>\n",
       "      <th>frequency</th>\n",
       "      <td>-0.02</td>\n",
       "      <td>1.00</td>\n",
       "    </tr>\n",
       "  </tbody>\n",
       "</table>\n",
       "</div>"
      ],
      "text/plain": [
       "            birth_year  frequency\n",
       "birth_year        1.00      -0.02\n",
       "frequency        -0.02       1.00"
      ]
     },
     "execution_count": 139,
     "metadata": {},
     "output_type": "execute_result"
    }
   ],
   "source": [
    "new_data.corr()"
   ]
  },
  {
   "cell_type": "markdown",
   "metadata": {},
   "source": [
    "##### 1.2 In total, how many babies were reported born in the dataset? "
   ]
  },
  {
   "cell_type": "code",
   "execution_count": 140,
   "metadata": {},
   "outputs": [],
   "source": [
    "babies=data['first_name']"
   ]
  },
  {
   "cell_type": "code",
   "execution_count": 141,
   "metadata": {},
   "outputs": [
    {
     "name": "stdout",
     "output_type": "stream",
     "text": [
      "There is a total of 14154 babies reported born in the dataset.\n"
     ]
    }
   ],
   "source": [
    "count=len(babies.index)\n",
    "print(\"There is a total of\",count, \"babies reported born in the dataset.\")"
   ]
  },
  {
   "cell_type": "markdown",
   "metadata": {},
   "source": [
    "##### 1.3 Of the babies reported born in the previous question, how many are male, how many are female? Display an appropriate chart/graph as well.\n"
   ]
  },
  {
   "cell_type": "code",
   "execution_count": 142,
   "metadata": {},
   "outputs": [
    {
     "data": {
      "text/plain": [
       "female    7230\n",
       "male      6924\n",
       "Name: gender, dtype: int64"
      ]
     },
     "execution_count": 142,
     "metadata": {},
     "output_type": "execute_result"
    }
   ],
   "source": [
    "data.gender.value_counts()"
   ]
  },
  {
   "cell_type": "code",
   "execution_count": 143,
   "metadata": {},
   "outputs": [
    {
     "data": {
      "image/png": "[encoded data removed]",
      "text/plain": [
       "<Figure size 432x288 with 1 Axes>"
      ]
     },
     "metadata": {
      "needs_background": "light"
     },
     "output_type": "display_data"
    }
   ],
   "source": [
    "data.gender.value_counts().plot(kind='bar');"
   ]
  },
  {
   "cell_type": "markdown",
   "metadata": {},
   "source": [
    "##### 1.4 What is the number of babies reported born in each year (ignoring gender, ethnicity)? Show as a table as well as a visual (chart).\n"
   ]
  },
  {
   "cell_type": "code",
   "execution_count": 144,
   "metadata": {},
   "outputs": [
    {
     "data": {
      "text/plain": [
       "2014    2075\n",
       "2016    2063\n",
       "2015    2045\n",
       "2013    2031\n",
       "2012    2004\n",
       "2017    1973\n",
       "2011    1963\n",
       "Name: birth_year, dtype: int64"
      ]
     },
     "execution_count": 144,
     "metadata": {},
     "output_type": "execute_result"
    }
   ],
   "source": [
    "data.birth_year.value_counts()"
   ]
  },
  {
   "cell_type": "code",
   "execution_count": 145,
   "metadata": {},
   "outputs": [
    {
     "data": {
      "image/png": "[encoded data removed]",
      "text/plain": [
       "<Figure size 432x288 with 1 Axes>"
      ]
     },
     "metadata": {
      "needs_background": "light"
     },
     "output_type": "display_data"
    }
   ],
   "source": [
    "data.birth_year.value_counts().plot(kind='bar');"
   ]
  },
  {
   "cell_type": "markdown",
   "metadata": {},
   "source": [
    "##### 1.5 create a table as well as a chart to show the number of babies born of each ethnicity, ignoring year, and gender"
   ]
  },
  {
   "cell_type": "code",
   "execution_count": 146,
   "metadata": {},
   "outputs": [
    {
     "data": {
      "text/plain": [
       "white non hispanic            4317\n",
       "hispanic                      4121\n",
       "black non hispanic            2175\n",
       "asian and pacific islander    2129\n",
       "white non hisp                 701\n",
       "asian and paci                 358\n",
       "black non hisp                 353\n",
       "Name: ethnicity, dtype: int64"
      ]
     },
     "execution_count": 146,
     "metadata": {},
     "output_type": "execute_result"
    }
   ],
   "source": [
    "data.ethnicity.value_counts()"
   ]
  },
  {
   "cell_type": "code",
   "execution_count": 147,
   "metadata": {},
   "outputs": [
    {
     "data": {
      "image/png": "[encoded data removed]",
      "text/plain": [
       "<Figure size 432x288 with 1 Axes>"
      ]
     },
     "metadata": {
      "needs_background": "light"
     },
     "output_type": "display_data"
    }
   ],
   "source": [
    "data.ethnicity.value_counts().plot(kind='bar');"
   ]
  },
  {
   "cell_type": "markdown",
   "metadata": {},
   "source": [
    "##### 1.6 What are the ten most popular names in the dataset (ignoring gender, year, ethnicity)?"
   ]
  },
  {
   "cell_type": "code",
   "execution_count": 148,
   "metadata": {},
   "outputs": [
    {
     "data": {
      "text/plain": [
       "0    avery\n",
       "dtype: object"
      ]
     },
     "execution_count": 148,
     "metadata": {},
     "output_type": "execute_result"
    }
   ],
   "source": [
    "data['first_name'].mode()"
   ]
  },
  {
   "cell_type": "code",
   "execution_count": 149,
   "metadata": {},
   "outputs": [
    {
     "data": {
      "text/plain": [
       "avery     43\n",
       "riley     37\n",
       "ariel     37\n",
       "dylan     36\n",
       "jordan    34\n",
       "          ..\n",
       "monica     1\n",
       "jonael     1\n",
       "gideon     1\n",
       "azaria     1\n",
       "zamir      1\n",
       "Name: first_name, Length: 1832, dtype: int64"
      ]
     },
     "execution_count": 149,
     "metadata": {},
     "output_type": "execute_result"
    }
   ],
   "source": [
    "data['first_name'].value_counts()"
   ]
  },
  {
   "cell_type": "code",
   "execution_count": 90,
   "metadata": {},
   "outputs": [
    {
     "data": {
      "text/html": [
       "<div>\n",
       "<style scoped>\n",
       "    .dataframe tbody tr th:only-of-type {\n",
       "        vertical-align: middle;\n",
       "    }\n",
       "\n",
       "    .dataframe tbody tr th {\n",
       "        vertical-align: top;\n",
       "    }\n",
       "\n",
       "    .dataframe thead th {\n",
       "        text-align: right;\n",
       "    }\n",
       "</style>\n",
       "<table border=\"1\" class=\"dataframe\">\n",
       "  <thead>\n",
       "    <tr style=\"text-align: right;\">\n",
       "      <th></th>\n",
       "      <th>birth_year</th>\n",
       "      <th>gender</th>\n",
       "      <th>ethnicity</th>\n",
       "      <th>first_name</th>\n",
       "      <th>frequency</th>\n",
       "    </tr>\n",
       "  </thead>\n",
       "  <tbody>\n",
       "    <tr>\n",
       "      <th>7910</th>\n",
       "      <td>2014</td>\n",
       "      <td>male</td>\n",
       "      <td>asian and pacific islander</td>\n",
       "      <td>aahil</td>\n",
       "      <td>14</td>\n",
       "    </tr>\n",
       "    <tr>\n",
       "      <th>26080</th>\n",
       "      <td>2016</td>\n",
       "      <td>male</td>\n",
       "      <td>asian and pacific islander</td>\n",
       "      <td>aahil</td>\n",
       "      <td>11</td>\n",
       "    </tr>\n",
       "    <tr>\n",
       "      <th>27899</th>\n",
       "      <td>2015</td>\n",
       "      <td>male</td>\n",
       "      <td>asian and pacific islander</td>\n",
       "      <td>aahil</td>\n",
       "      <td>13</td>\n",
       "    </tr>\n",
       "    <tr>\n",
       "      <th>24547</th>\n",
       "      <td>2017</td>\n",
       "      <td>male</td>\n",
       "      <td>asian and pacific islander</td>\n",
       "      <td>aahil</td>\n",
       "      <td>11</td>\n",
       "    </tr>\n",
       "    <tr>\n",
       "      <th>5936</th>\n",
       "      <td>2013</td>\n",
       "      <td>female</td>\n",
       "      <td>hispanic</td>\n",
       "      <td>aaliyah</td>\n",
       "      <td>56</td>\n",
       "    </tr>\n",
       "    <tr>\n",
       "      <th>1108</th>\n",
       "      <td>2011</td>\n",
       "      <td>female</td>\n",
       "      <td>black non hispanic</td>\n",
       "      <td>aaliyah</td>\n",
       "      <td>69</td>\n",
       "    </tr>\n",
       "    <tr>\n",
       "      <th>4127</th>\n",
       "      <td>2012</td>\n",
       "      <td>female</td>\n",
       "      <td>black non hisp</td>\n",
       "      <td>aaliyah</td>\n",
       "      <td>55</td>\n",
       "    </tr>\n",
       "    <tr>\n",
       "      <th>25801</th>\n",
       "      <td>2016</td>\n",
       "      <td>female</td>\n",
       "      <td>black non hispanic</td>\n",
       "      <td>aaliyah</td>\n",
       "      <td>57</td>\n",
       "    </tr>\n",
       "    <tr>\n",
       "      <th>1291</th>\n",
       "      <td>2011</td>\n",
       "      <td>female</td>\n",
       "      <td>hispanic</td>\n",
       "      <td>aaliyah</td>\n",
       "      <td>63</td>\n",
       "    </tr>\n",
       "    <tr>\n",
       "      <th>4298</th>\n",
       "      <td>2012</td>\n",
       "      <td>female</td>\n",
       "      <td>hispanic</td>\n",
       "      <td>aaliyah</td>\n",
       "      <td>68</td>\n",
       "    </tr>\n",
       "  </tbody>\n",
       "</table>\n",
       "</div>"
      ],
      "text/plain": [
       "       birth_year  gender                   ethnicity first_name  frequency\n",
       "7910         2014    male  asian and pacific islander      aahil         14\n",
       "26080        2016    male  asian and pacific islander      aahil         11\n",
       "27899        2015    male  asian and pacific islander      aahil         13\n",
       "24547        2017    male  asian and pacific islander      aahil         11\n",
       "5936         2013  female                    hispanic    aaliyah         56\n",
       "1108         2011  female          black non hispanic    aaliyah         69\n",
       "4127         2012  female              black non hisp    aaliyah         55\n",
       "25801        2016  female          black non hispanic    aaliyah         57\n",
       "1291         2011  female                    hispanic    aaliyah         63\n",
       "4298         2012  female                    hispanic    aaliyah         68"
      ]
     },
     "execution_count": 90,
     "metadata": {},
     "output_type": "execute_result"
    }
   ],
   "source": [
    "!!!!?????data.sort_values('first_name').head(10)"
   ]
  },
  {
   "cell_type": "markdown",
   "metadata": {},
   "source": [
    "##### 1.7 What are the ten most popular female baby names in the dataset (ignoring year, ethnicity)?"
   ]
  },
  {
   "cell_type": "markdown",
   "metadata": {},
   "source": [
    "##### 1.8 A friend of mine (David Beckham) lamented that the popularity of his first name (\"david\") has gone down. Does the given dataset support his claim? "
   ]
  },
  {
   "cell_type": "code",
   "execution_count": 170,
   "metadata": {},
   "outputs": [
    {
     "data": {
      "text/html": [
       "<div>\n",
       "<style scoped>\n",
       "    .dataframe tbody tr th:only-of-type {\n",
       "        vertical-align: middle;\n",
       "    }\n",
       "\n",
       "    .dataframe tbody tr th {\n",
       "        vertical-align: top;\n",
       "    }\n",
       "\n",
       "    .dataframe thead th {\n",
       "        text-align: right;\n",
       "    }\n",
       "</style>\n",
       "<table border=\"1\" class=\"dataframe\">\n",
       "  <thead>\n",
       "    <tr style=\"text-align: right;\">\n",
       "      <th>first_name</th>\n",
       "      <th>aahil</th>\n",
       "      <th>aaliyah</th>\n",
       "      <th>aarav</th>\n",
       "      <th>aaron</th>\n",
       "      <th>aarya</th>\n",
       "      <th>aaryan</th>\n",
       "      <th>aayan</th>\n",
       "      <th>abby</th>\n",
       "      <th>abdiel</th>\n",
       "      <th>abdoul</th>\n",
       "      <th>...</th>\n",
       "      <th>zelda</th>\n",
       "      <th>zendaya</th>\n",
       "      <th>zev</th>\n",
       "      <th>zion</th>\n",
       "      <th>zissy</th>\n",
       "      <th>zoe</th>\n",
       "      <th>zoey</th>\n",
       "      <th>zoya</th>\n",
       "      <th>zuri</th>\n",
       "      <th>zyaire</th>\n",
       "    </tr>\n",
       "    <tr>\n",
       "      <th>birth_year</th>\n",
       "      <th></th>\n",
       "      <th></th>\n",
       "      <th></th>\n",
       "      <th></th>\n",
       "      <th></th>\n",
       "      <th></th>\n",
       "      <th></th>\n",
       "      <th></th>\n",
       "      <th></th>\n",
       "      <th></th>\n",
       "      <th></th>\n",
       "      <th></th>\n",
       "      <th></th>\n",
       "      <th></th>\n",
       "      <th></th>\n",
       "      <th></th>\n",
       "      <th></th>\n",
       "      <th></th>\n",
       "      <th></th>\n",
       "      <th></th>\n",
       "      <th></th>\n",
       "    </tr>\n",
       "  </thead>\n",
       "  <tbody>\n",
       "    <tr>\n",
       "      <th>2011</th>\n",
       "      <td>0</td>\n",
       "      <td>2</td>\n",
       "      <td>1</td>\n",
       "      <td>4</td>\n",
       "      <td>0</td>\n",
       "      <td>0</td>\n",
       "      <td>0</td>\n",
       "      <td>1</td>\n",
       "      <td>1</td>\n",
       "      <td>1</td>\n",
       "      <td>...</td>\n",
       "      <td>0</td>\n",
       "      <td>0</td>\n",
       "      <td>1</td>\n",
       "      <td>2</td>\n",
       "      <td>1</td>\n",
       "      <td>4</td>\n",
       "      <td>3</td>\n",
       "      <td>0</td>\n",
       "      <td>1</td>\n",
       "      <td>1</td>\n",
       "    </tr>\n",
       "    <tr>\n",
       "      <th>2012</th>\n",
       "      <td>0</td>\n",
       "      <td>2</td>\n",
       "      <td>1</td>\n",
       "      <td>4</td>\n",
       "      <td>0</td>\n",
       "      <td>0</td>\n",
       "      <td>1</td>\n",
       "      <td>1</td>\n",
       "      <td>1</td>\n",
       "      <td>1</td>\n",
       "      <td>...</td>\n",
       "      <td>0</td>\n",
       "      <td>0</td>\n",
       "      <td>1</td>\n",
       "      <td>2</td>\n",
       "      <td>1</td>\n",
       "      <td>4</td>\n",
       "      <td>4</td>\n",
       "      <td>0</td>\n",
       "      <td>1</td>\n",
       "      <td>0</td>\n",
       "    </tr>\n",
       "    <tr>\n",
       "      <th>2013</th>\n",
       "      <td>0</td>\n",
       "      <td>2</td>\n",
       "      <td>1</td>\n",
       "      <td>4</td>\n",
       "      <td>0</td>\n",
       "      <td>0</td>\n",
       "      <td>1</td>\n",
       "      <td>1</td>\n",
       "      <td>0</td>\n",
       "      <td>0</td>\n",
       "      <td>...</td>\n",
       "      <td>1</td>\n",
       "      <td>0</td>\n",
       "      <td>1</td>\n",
       "      <td>2</td>\n",
       "      <td>1</td>\n",
       "      <td>4</td>\n",
       "      <td>4</td>\n",
       "      <td>1</td>\n",
       "      <td>1</td>\n",
       "      <td>0</td>\n",
       "    </tr>\n",
       "    <tr>\n",
       "      <th>2014</th>\n",
       "      <td>1</td>\n",
       "      <td>2</td>\n",
       "      <td>0</td>\n",
       "      <td>4</td>\n",
       "      <td>1</td>\n",
       "      <td>0</td>\n",
       "      <td>1</td>\n",
       "      <td>1</td>\n",
       "      <td>0</td>\n",
       "      <td>1</td>\n",
       "      <td>...</td>\n",
       "      <td>1</td>\n",
       "      <td>1</td>\n",
       "      <td>1</td>\n",
       "      <td>1</td>\n",
       "      <td>1</td>\n",
       "      <td>4</td>\n",
       "      <td>4</td>\n",
       "      <td>0</td>\n",
       "      <td>1</td>\n",
       "      <td>0</td>\n",
       "    </tr>\n",
       "    <tr>\n",
       "      <th>2015</th>\n",
       "      <td>1</td>\n",
       "      <td>2</td>\n",
       "      <td>1</td>\n",
       "      <td>4</td>\n",
       "      <td>1</td>\n",
       "      <td>1</td>\n",
       "      <td>1</td>\n",
       "      <td>1</td>\n",
       "      <td>1</td>\n",
       "      <td>1</td>\n",
       "      <td>...</td>\n",
       "      <td>0</td>\n",
       "      <td>1</td>\n",
       "      <td>1</td>\n",
       "      <td>2</td>\n",
       "      <td>1</td>\n",
       "      <td>4</td>\n",
       "      <td>4</td>\n",
       "      <td>0</td>\n",
       "      <td>1</td>\n",
       "      <td>0</td>\n",
       "    </tr>\n",
       "    <tr>\n",
       "      <th>2016</th>\n",
       "      <td>1</td>\n",
       "      <td>2</td>\n",
       "      <td>1</td>\n",
       "      <td>4</td>\n",
       "      <td>0</td>\n",
       "      <td>1</td>\n",
       "      <td>1</td>\n",
       "      <td>1</td>\n",
       "      <td>1</td>\n",
       "      <td>1</td>\n",
       "      <td>...</td>\n",
       "      <td>1</td>\n",
       "      <td>0</td>\n",
       "      <td>1</td>\n",
       "      <td>2</td>\n",
       "      <td>1</td>\n",
       "      <td>4</td>\n",
       "      <td>4</td>\n",
       "      <td>0</td>\n",
       "      <td>1</td>\n",
       "      <td>0</td>\n",
       "    </tr>\n",
       "    <tr>\n",
       "      <th>2017</th>\n",
       "      <td>1</td>\n",
       "      <td>3</td>\n",
       "      <td>1</td>\n",
       "      <td>4</td>\n",
       "      <td>0</td>\n",
       "      <td>0</td>\n",
       "      <td>1</td>\n",
       "      <td>2</td>\n",
       "      <td>1</td>\n",
       "      <td>1</td>\n",
       "      <td>...</td>\n",
       "      <td>1</td>\n",
       "      <td>0</td>\n",
       "      <td>1</td>\n",
       "      <td>2</td>\n",
       "      <td>1</td>\n",
       "      <td>4</td>\n",
       "      <td>4</td>\n",
       "      <td>1</td>\n",
       "      <td>1</td>\n",
       "      <td>0</td>\n",
       "    </tr>\n",
       "  </tbody>\n",
       "</table>\n",
       "<p>7 rows × 1832 columns</p>\n",
       "</div>"
      ],
      "text/plain": [
       "first_name  aahil  aaliyah  aarav  aaron  aarya  aaryan  aayan  abby  abdiel  \\\n",
       "birth_year                                                                     \n",
       "2011            0        2      1      4      0       0      0     1       1   \n",
       "2012            0        2      1      4      0       0      1     1       1   \n",
       "2013            0        2      1      4      0       0      1     1       0   \n",
       "2014            1        2      0      4      1       0      1     1       0   \n",
       "2015            1        2      1      4      1       1      1     1       1   \n",
       "2016            1        2      1      4      0       1      1     1       1   \n",
       "2017            1        3      1      4      0       0      1     2       1   \n",
       "\n",
       "first_name  abdoul  ...  zelda  zendaya  zev  zion  zissy  zoe  zoey  zoya  \\\n",
       "birth_year          ...                                                      \n",
       "2011             1  ...      0        0    1     2      1    4     3     0   \n",
       "2012             1  ...      0        0    1     2      1    4     4     0   \n",
       "2013             0  ...      1        0    1     2      1    4     4     1   \n",
       "2014             1  ...      1        1    1     1      1    4     4     0   \n",
       "2015             1  ...      0        1    1     2      1    4     4     0   \n",
       "2016             1  ...      1        0    1     2      1    4     4     0   \n",
       "2017             1  ...      1        0    1     2      1    4     4     1   \n",
       "\n",
       "first_name  zuri  zyaire  \n",
       "birth_year                \n",
       "2011           1       1  \n",
       "2012           1       0  \n",
       "2013           1       0  \n",
       "2014           1       0  \n",
       "2015           1       0  \n",
       "2016           1       0  \n",
       "2017           1       0  \n",
       "\n",
       "[7 rows x 1832 columns]"
      ]
     },
     "execution_count": 170,
     "metadata": {},
     "output_type": "execute_result"
    }
   ],
   "source": [
    "pd.crosstab(data.birth_year, data.first_name)"
   ]
  },
  {
   "cell_type": "code",
   "execution_count": 171,
   "metadata": {},
   "outputs": [],
   "source": [
    "data_year = pd.crosstab(data.birth_year, data.first_name)"
   ]
  },
  {
   "cell_type": "code",
   "execution_count": 178,
   "metadata": {},
   "outputs": [
    {
     "data": {
      "text/plain": [
       "birth_year\n",
       "2011    4\n",
       "2012    4\n",
       "2013    4\n",
       "2014    4\n",
       "2015    4\n",
       "2016    4\n",
       "2017    4\n",
       "Name: david, dtype: int64"
      ]
     },
     "execution_count": 178,
     "metadata": {},
     "output_type": "execute_result"
    }
   ],
   "source": [
    "data_year['david']"
   ]
  },
  {
   "cell_type": "markdown",
   "metadata": {},
   "source": [
    "##### 1.9 In total, how many distinct first names are there in the dataset? Each name must be counted only once"
   ]
  },
  {
   "cell_type": "code",
   "execution_count": 181,
   "metadata": {},
   "outputs": [
    {
     "data": {
      "text/plain": [
       "1832"
      ]
     },
     "execution_count": 181,
     "metadata": {},
     "output_type": "execute_result"
    }
   ],
   "source": [
    "unique_names = len(pd.unique(new_data['first_name']))\n",
    "unique_names"
   ]
  },
  {
   "cell_type": "code",
   "execution_count": null,
   "metadata": {},
   "outputs": [],
   "source": []
  },
  {
   "cell_type": "code",
   "execution_count": null,
   "metadata": {},
   "outputs": [],
   "source": []
  },
  {
   "cell_type": "code",
   "execution_count": 42,
   "metadata": {},
   "outputs": [],
   "source": [
    "dataf = dataf.set_index('Date')"
   ]
  },
  {
   "cell_type": "code",
   "execution_count": 43,
   "metadata": {},
   "outputs": [
    {
     "data": {
      "text/html": [
       "<div>\n",
       "<style scoped>\n",
       "    .dataframe tbody tr th:only-of-type {\n",
       "        vertical-align: middle;\n",
       "    }\n",
       "\n",
       "    .dataframe tbody tr th {\n",
       "        vertical-align: top;\n",
       "    }\n",
       "\n",
       "    .dataframe thead th {\n",
       "        text-align: right;\n",
       "    }\n",
       "</style>\n",
       "<table border=\"1\" class=\"dataframe\">\n",
       "  <thead>\n",
       "    <tr style=\"text-align: right;\">\n",
       "      <th></th>\n",
       "      <th>Open</th>\n",
       "      <th>High</th>\n",
       "      <th>Low</th>\n",
       "      <th>Close</th>\n",
       "      <th>Adj Close</th>\n",
       "      <th>Volume</th>\n",
       "    </tr>\n",
       "    <tr>\n",
       "      <th>Date</th>\n",
       "      <th></th>\n",
       "      <th></th>\n",
       "      <th></th>\n",
       "      <th></th>\n",
       "      <th></th>\n",
       "      <th></th>\n",
       "    </tr>\n",
       "  </thead>\n",
       "  <tbody>\n",
       "    <tr>\n",
       "      <th>2021-05-21</th>\n",
       "      <td>127.82</td>\n",
       "      <td>128.00</td>\n",
       "      <td>125.21</td>\n",
       "      <td>125.43</td>\n",
       "      <td>125.06</td>\n",
       "      <td>79295400</td>\n",
       "    </tr>\n",
       "    <tr>\n",
       "      <th>2021-05-24</th>\n",
       "      <td>126.01</td>\n",
       "      <td>127.94</td>\n",
       "      <td>125.94</td>\n",
       "      <td>127.10</td>\n",
       "      <td>126.72</td>\n",
       "      <td>63092900</td>\n",
       "    </tr>\n",
       "    <tr>\n",
       "      <th>2021-05-25</th>\n",
       "      <td>127.82</td>\n",
       "      <td>128.32</td>\n",
       "      <td>126.32</td>\n",
       "      <td>126.90</td>\n",
       "      <td>126.53</td>\n",
       "      <td>72009500</td>\n",
       "    </tr>\n",
       "    <tr>\n",
       "      <th>2021-05-26</th>\n",
       "      <td>126.96</td>\n",
       "      <td>127.39</td>\n",
       "      <td>126.42</td>\n",
       "      <td>126.85</td>\n",
       "      <td>126.48</td>\n",
       "      <td>56575900</td>\n",
       "    </tr>\n",
       "    <tr>\n",
       "      <th>2021-05-27</th>\n",
       "      <td>126.44</td>\n",
       "      <td>127.64</td>\n",
       "      <td>125.08</td>\n",
       "      <td>125.28</td>\n",
       "      <td>124.91</td>\n",
       "      <td>94625600</td>\n",
       "    </tr>\n",
       "    <tr>\n",
       "      <th>...</th>\n",
       "      <td>...</td>\n",
       "      <td>...</td>\n",
       "      <td>...</td>\n",
       "      <td>...</td>\n",
       "      <td>...</td>\n",
       "      <td>...</td>\n",
       "    </tr>\n",
       "    <tr>\n",
       "      <th>2021-11-15</th>\n",
       "      <td>150.37</td>\n",
       "      <td>151.88</td>\n",
       "      <td>149.43</td>\n",
       "      <td>150.00</td>\n",
       "      <td>150.00</td>\n",
       "      <td>59222800</td>\n",
       "    </tr>\n",
       "    <tr>\n",
       "      <th>2021-11-16</th>\n",
       "      <td>149.94</td>\n",
       "      <td>151.49</td>\n",
       "      <td>149.34</td>\n",
       "      <td>151.00</td>\n",
       "      <td>151.00</td>\n",
       "      <td>59256200</td>\n",
       "    </tr>\n",
       "    <tr>\n",
       "      <th>2021-11-17</th>\n",
       "      <td>151.00</td>\n",
       "      <td>155.00</td>\n",
       "      <td>150.99</td>\n",
       "      <td>153.49</td>\n",
       "      <td>153.49</td>\n",
       "      <td>88807000</td>\n",
       "    </tr>\n",
       "    <tr>\n",
       "      <th>2021-11-18</th>\n",
       "      <td>153.71</td>\n",
       "      <td>158.67</td>\n",
       "      <td>153.05</td>\n",
       "      <td>157.87</td>\n",
       "      <td>157.87</td>\n",
       "      <td>137827700</td>\n",
       "    </tr>\n",
       "    <tr>\n",
       "      <th>2021-11-19</th>\n",
       "      <td>157.65</td>\n",
       "      <td>161.02</td>\n",
       "      <td>156.53</td>\n",
       "      <td>160.55</td>\n",
       "      <td>160.55</td>\n",
       "      <td>117305600</td>\n",
       "    </tr>\n",
       "  </tbody>\n",
       "</table>\n",
       "<p>128 rows × 6 columns</p>\n",
       "</div>"
      ],
      "text/plain": [
       "              Open    High     Low   Close  Adj Close     Volume\n",
       "Date                                                            \n",
       "2021-05-21  127.82  128.00  125.21  125.43     125.06   79295400\n",
       "2021-05-24  126.01  127.94  125.94  127.10     126.72   63092900\n",
       "2021-05-25  127.82  128.32  126.32  126.90     126.53   72009500\n",
       "2021-05-26  126.96  127.39  126.42  126.85     126.48   56575900\n",
       "2021-05-27  126.44  127.64  125.08  125.28     124.91   94625600\n",
       "...            ...     ...     ...     ...        ...        ...\n",
       "2021-11-15  150.37  151.88  149.43  150.00     150.00   59222800\n",
       "2021-11-16  149.94  151.49  149.34  151.00     151.00   59256200\n",
       "2021-11-17  151.00  155.00  150.99  153.49     153.49   88807000\n",
       "2021-11-18  153.71  158.67  153.05  157.87     157.87  137827700\n",
       "2021-11-19  157.65  161.02  156.53  160.55     160.55  117305600\n",
       "\n",
       "[128 rows x 6 columns]"
      ]
     },
     "execution_count": 43,
     "metadata": {},
     "output_type": "execute_result"
    }
   ],
   "source": [
    "dataf"
   ]
  },
  {
   "cell_type": "markdown",
   "metadata": {},
   "source": [
    "### Question 4: Make sure to know the data type of each column"
   ]
  },
  {
   "cell_type": "code",
   "execution_count": 44,
   "metadata": {},
   "outputs": [
    {
     "data": {
      "text/plain": [
       "Open         float64\n",
       "High         float64\n",
       "Low          float64\n",
       "Close        float64\n",
       "Adj Close    float64\n",
       "Volume         int64\n",
       "dtype: object"
      ]
     },
     "execution_count": 44,
     "metadata": {},
     "output_type": "execute_result"
    }
   ],
   "source": [
    "dataf.dtypes"
   ]
  },
  {
   "cell_type": "markdown",
   "metadata": {},
   "source": [
    "### Question 5: Are there any missing values?"
   ]
  },
  {
   "cell_type": "code",
   "execution_count": 45,
   "metadata": {
    "scrolled": false
   },
   "outputs": [
    {
     "data": {
      "text/plain": [
       "Open         0\n",
       "High         0\n",
       "Low          0\n",
       "Close        0\n",
       "Adj Close    0\n",
       "Volume       0\n",
       "dtype: int64"
      ]
     },
     "execution_count": 45,
     "metadata": {},
     "output_type": "execute_result"
    }
   ],
   "source": [
    "dataf.isnull\n",
    "dataf.isna().sum()"
   ]
  },
  {
   "cell_type": "markdown",
   "metadata": {},
   "source": [
    "##### There are no missing values as it shows in the above table."
   ]
  },
  {
   "cell_type": "markdown",
   "metadata": {},
   "source": [
    "### Question 6: Rename all column names to be in lower case"
   ]
  },
  {
   "cell_type": "code",
   "execution_count": 46,
   "metadata": {
    "scrolled": false
   },
   "outputs": [
    {
     "data": {
      "text/html": [
       "<div>\n",
       "<style scoped>\n",
       "    .dataframe tbody tr th:only-of-type {\n",
       "        vertical-align: middle;\n",
       "    }\n",
       "\n",
       "    .dataframe tbody tr th {\n",
       "        vertical-align: top;\n",
       "    }\n",
       "\n",
       "    .dataframe thead th {\n",
       "        text-align: right;\n",
       "    }\n",
       "</style>\n",
       "<table border=\"1\" class=\"dataframe\">\n",
       "  <thead>\n",
       "    <tr style=\"text-align: right;\">\n",
       "      <th></th>\n",
       "      <th>open</th>\n",
       "      <th>high</th>\n",
       "      <th>low</th>\n",
       "      <th>close</th>\n",
       "      <th>adjclose</th>\n",
       "      <th>volume</th>\n",
       "    </tr>\n",
       "    <tr>\n",
       "      <th>Date</th>\n",
       "      <th></th>\n",
       "      <th></th>\n",
       "      <th></th>\n",
       "      <th></th>\n",
       "      <th></th>\n",
       "      <th></th>\n",
       "    </tr>\n",
       "  </thead>\n",
       "  <tbody>\n",
       "    <tr>\n",
       "      <th>2021-05-21</th>\n",
       "      <td>127.82</td>\n",
       "      <td>128.00</td>\n",
       "      <td>125.21</td>\n",
       "      <td>125.43</td>\n",
       "      <td>125.06</td>\n",
       "      <td>79295400</td>\n",
       "    </tr>\n",
       "    <tr>\n",
       "      <th>2021-05-24</th>\n",
       "      <td>126.01</td>\n",
       "      <td>127.94</td>\n",
       "      <td>125.94</td>\n",
       "      <td>127.10</td>\n",
       "      <td>126.72</td>\n",
       "      <td>63092900</td>\n",
       "    </tr>\n",
       "    <tr>\n",
       "      <th>2021-05-25</th>\n",
       "      <td>127.82</td>\n",
       "      <td>128.32</td>\n",
       "      <td>126.32</td>\n",
       "      <td>126.90</td>\n",
       "      <td>126.53</td>\n",
       "      <td>72009500</td>\n",
       "    </tr>\n",
       "    <tr>\n",
       "      <th>2021-05-26</th>\n",
       "      <td>126.96</td>\n",
       "      <td>127.39</td>\n",
       "      <td>126.42</td>\n",
       "      <td>126.85</td>\n",
       "      <td>126.48</td>\n",
       "      <td>56575900</td>\n",
       "    </tr>\n",
       "    <tr>\n",
       "      <th>2021-05-27</th>\n",
       "      <td>126.44</td>\n",
       "      <td>127.64</td>\n",
       "      <td>125.08</td>\n",
       "      <td>125.28</td>\n",
       "      <td>124.91</td>\n",
       "      <td>94625600</td>\n",
       "    </tr>\n",
       "    <tr>\n",
       "      <th>...</th>\n",
       "      <td>...</td>\n",
       "      <td>...</td>\n",
       "      <td>...</td>\n",
       "      <td>...</td>\n",
       "      <td>...</td>\n",
       "      <td>...</td>\n",
       "    </tr>\n",
       "    <tr>\n",
       "      <th>2021-11-15</th>\n",
       "      <td>150.37</td>\n",
       "      <td>151.88</td>\n",
       "      <td>149.43</td>\n",
       "      <td>150.00</td>\n",
       "      <td>150.00</td>\n",
       "      <td>59222800</td>\n",
       "    </tr>\n",
       "    <tr>\n",
       "      <th>2021-11-16</th>\n",
       "      <td>149.94</td>\n",
       "      <td>151.49</td>\n",
       "      <td>149.34</td>\n",
       "      <td>151.00</td>\n",
       "      <td>151.00</td>\n",
       "      <td>59256200</td>\n",
       "    </tr>\n",
       "    <tr>\n",
       "      <th>2021-11-17</th>\n",
       "      <td>151.00</td>\n",
       "      <td>155.00</td>\n",
       "      <td>150.99</td>\n",
       "      <td>153.49</td>\n",
       "      <td>153.49</td>\n",
       "      <td>88807000</td>\n",
       "    </tr>\n",
       "    <tr>\n",
       "      <th>2021-11-18</th>\n",
       "      <td>153.71</td>\n",
       "      <td>158.67</td>\n",
       "      <td>153.05</td>\n",
       "      <td>157.87</td>\n",
       "      <td>157.87</td>\n",
       "      <td>137827700</td>\n",
       "    </tr>\n",
       "    <tr>\n",
       "      <th>2021-11-19</th>\n",
       "      <td>157.65</td>\n",
       "      <td>161.02</td>\n",
       "      <td>156.53</td>\n",
       "      <td>160.55</td>\n",
       "      <td>160.55</td>\n",
       "      <td>117305600</td>\n",
       "    </tr>\n",
       "  </tbody>\n",
       "</table>\n",
       "<p>128 rows × 6 columns</p>\n",
       "</div>"
      ],
      "text/plain": [
       "              open    high     low   close  adjclose     volume\n",
       "Date                                                           \n",
       "2021-05-21  127.82  128.00  125.21  125.43    125.06   79295400\n",
       "2021-05-24  126.01  127.94  125.94  127.10    126.72   63092900\n",
       "2021-05-25  127.82  128.32  126.32  126.90    126.53   72009500\n",
       "2021-05-26  126.96  127.39  126.42  126.85    126.48   56575900\n",
       "2021-05-27  126.44  127.64  125.08  125.28    124.91   94625600\n",
       "...            ...     ...     ...     ...       ...        ...\n",
       "2021-11-15  150.37  151.88  149.43  150.00    150.00   59222800\n",
       "2021-11-16  149.94  151.49  149.34  151.00    151.00   59256200\n",
       "2021-11-17  151.00  155.00  150.99  153.49    153.49   88807000\n",
       "2021-11-18  153.71  158.67  153.05  157.87    157.87  137827700\n",
       "2021-11-19  157.65  161.02  156.53  160.55    160.55  117305600\n",
       "\n",
       "[128 rows x 6 columns]"
      ]
     },
     "execution_count": 46,
     "metadata": {},
     "output_type": "execute_result"
    }
   ],
   "source": [
    "dataf.columns = dataf.columns.str.lower()\n",
    "dataf.columns = dataf.columns.str.replace(' ', '')\n",
    "\n",
    "dataf"
   ]
  },
  {
   "cell_type": "markdown",
   "metadata": {},
   "source": [
    "### Question 7: The closing price may be adjusted after close on some days. On how many days is the closing price the same as the adjusted close price?"
   ]
  },
  {
   "cell_type": "code",
   "execution_count": 47,
   "metadata": {},
   "outputs": [],
   "source": [
    "#we first save both variables\n",
    "closing_price = dataf.close\n",
    "adjclosing_price = dataf.adjclose"
   ]
  },
  {
   "cell_type": "code",
   "execution_count": 48,
   "metadata": {},
   "outputs": [],
   "source": [
    "#then we equal both variables we want to study to check which numbers are equal\n",
    "flt = (closing_price == adjclosing_price)"
   ]
  },
  {
   "cell_type": "code",
   "execution_count": 77,
   "metadata": {},
   "outputs": [
    {
     "name": "stdout",
     "output_type": "stream",
     "text": [
      "The number of days where the closing price is equal to the adjusted closing price is 11\n"
     ]
    }
   ],
   "source": [
    "#we count how many ahve the same number\n",
    "equal_price = dataf[flt]\n",
    "\n",
    "count_row = equal_price.shape[0]\n",
    "\n",
    "print (\"The number of days where the closing price is equal to the adjusted closing price is\", count_row)"
   ]
  },
  {
   "cell_type": "markdown",
   "metadata": {},
   "source": [
    "### Question 8: Create a new column called price_change in which you store the difference between the close and open price on each day."
   ]
  },
  {
   "cell_type": "code",
   "execution_count": 50,
   "metadata": {
    "scrolled": false
   },
   "outputs": [
    {
     "data": {
      "text/html": [
       "<div>\n",
       "<style scoped>\n",
       "    .dataframe tbody tr th:only-of-type {\n",
       "        vertical-align: middle;\n",
       "    }\n",
       "\n",
       "    .dataframe tbody tr th {\n",
       "        vertical-align: top;\n",
       "    }\n",
       "\n",
       "    .dataframe thead th {\n",
       "        text-align: right;\n",
       "    }\n",
       "</style>\n",
       "<table border=\"1\" class=\"dataframe\">\n",
       "  <thead>\n",
       "    <tr style=\"text-align: right;\">\n",
       "      <th></th>\n",
       "      <th>open</th>\n",
       "      <th>high</th>\n",
       "      <th>low</th>\n",
       "      <th>close</th>\n",
       "      <th>adjclose</th>\n",
       "      <th>volume</th>\n",
       "      <th>price_change</th>\n",
       "    </tr>\n",
       "    <tr>\n",
       "      <th>Date</th>\n",
       "      <th></th>\n",
       "      <th></th>\n",
       "      <th></th>\n",
       "      <th></th>\n",
       "      <th></th>\n",
       "      <th></th>\n",
       "      <th></th>\n",
       "    </tr>\n",
       "  </thead>\n",
       "  <tbody>\n",
       "    <tr>\n",
       "      <th>2021-05-21</th>\n",
       "      <td>127.82</td>\n",
       "      <td>128.00</td>\n",
       "      <td>125.21</td>\n",
       "      <td>125.43</td>\n",
       "      <td>125.06</td>\n",
       "      <td>79295400</td>\n",
       "      <td>-2.39</td>\n",
       "    </tr>\n",
       "    <tr>\n",
       "      <th>2021-05-24</th>\n",
       "      <td>126.01</td>\n",
       "      <td>127.94</td>\n",
       "      <td>125.94</td>\n",
       "      <td>127.10</td>\n",
       "      <td>126.72</td>\n",
       "      <td>63092900</td>\n",
       "      <td>1.09</td>\n",
       "    </tr>\n",
       "    <tr>\n",
       "      <th>2021-05-25</th>\n",
       "      <td>127.82</td>\n",
       "      <td>128.32</td>\n",
       "      <td>126.32</td>\n",
       "      <td>126.90</td>\n",
       "      <td>126.53</td>\n",
       "      <td>72009500</td>\n",
       "      <td>-0.92</td>\n",
       "    </tr>\n",
       "    <tr>\n",
       "      <th>2021-05-26</th>\n",
       "      <td>126.96</td>\n",
       "      <td>127.39</td>\n",
       "      <td>126.42</td>\n",
       "      <td>126.85</td>\n",
       "      <td>126.48</td>\n",
       "      <td>56575900</td>\n",
       "      <td>-0.11</td>\n",
       "    </tr>\n",
       "    <tr>\n",
       "      <th>2021-05-27</th>\n",
       "      <td>126.44</td>\n",
       "      <td>127.64</td>\n",
       "      <td>125.08</td>\n",
       "      <td>125.28</td>\n",
       "      <td>124.91</td>\n",
       "      <td>94625600</td>\n",
       "      <td>-1.16</td>\n",
       "    </tr>\n",
       "    <tr>\n",
       "      <th>...</th>\n",
       "      <td>...</td>\n",
       "      <td>...</td>\n",
       "      <td>...</td>\n",
       "      <td>...</td>\n",
       "      <td>...</td>\n",
       "      <td>...</td>\n",
       "      <td>...</td>\n",
       "    </tr>\n",
       "    <tr>\n",
       "      <th>2021-11-15</th>\n",
       "      <td>150.37</td>\n",
       "      <td>151.88</td>\n",
       "      <td>149.43</td>\n",
       "      <td>150.00</td>\n",
       "      <td>150.00</td>\n",
       "      <td>59222800</td>\n",
       "      <td>-0.37</td>\n",
       "    </tr>\n",
       "    <tr>\n",
       "      <th>2021-11-16</th>\n",
       "      <td>149.94</td>\n",
       "      <td>151.49</td>\n",
       "      <td>149.34</td>\n",
       "      <td>151.00</td>\n",
       "      <td>151.00</td>\n",
       "      <td>59256200</td>\n",
       "      <td>1.06</td>\n",
       "    </tr>\n",
       "    <tr>\n",
       "      <th>2021-11-17</th>\n",
       "      <td>151.00</td>\n",
       "      <td>155.00</td>\n",
       "      <td>150.99</td>\n",
       "      <td>153.49</td>\n",
       "      <td>153.49</td>\n",
       "      <td>88807000</td>\n",
       "      <td>2.49</td>\n",
       "    </tr>\n",
       "    <tr>\n",
       "      <th>2021-11-18</th>\n",
       "      <td>153.71</td>\n",
       "      <td>158.67</td>\n",
       "      <td>153.05</td>\n",
       "      <td>157.87</td>\n",
       "      <td>157.87</td>\n",
       "      <td>137827700</td>\n",
       "      <td>4.16</td>\n",
       "    </tr>\n",
       "    <tr>\n",
       "      <th>2021-11-19</th>\n",
       "      <td>157.65</td>\n",
       "      <td>161.02</td>\n",
       "      <td>156.53</td>\n",
       "      <td>160.55</td>\n",
       "      <td>160.55</td>\n",
       "      <td>117305600</td>\n",
       "      <td>2.90</td>\n",
       "    </tr>\n",
       "  </tbody>\n",
       "</table>\n",
       "<p>128 rows × 7 columns</p>\n",
       "</div>"
      ],
      "text/plain": [
       "              open    high     low   close  adjclose     volume  price_change\n",
       "Date                                                                         \n",
       "2021-05-21  127.82  128.00  125.21  125.43    125.06   79295400         -2.39\n",
       "2021-05-24  126.01  127.94  125.94  127.10    126.72   63092900          1.09\n",
       "2021-05-25  127.82  128.32  126.32  126.90    126.53   72009500         -0.92\n",
       "2021-05-26  126.96  127.39  126.42  126.85    126.48   56575900         -0.11\n",
       "2021-05-27  126.44  127.64  125.08  125.28    124.91   94625600         -1.16\n",
       "...            ...     ...     ...     ...       ...        ...           ...\n",
       "2021-11-15  150.37  151.88  149.43  150.00    150.00   59222800         -0.37\n",
       "2021-11-16  149.94  151.49  149.34  151.00    151.00   59256200          1.06\n",
       "2021-11-17  151.00  155.00  150.99  153.49    153.49   88807000          2.49\n",
       "2021-11-18  153.71  158.67  153.05  157.87    157.87  137827700          4.16\n",
       "2021-11-19  157.65  161.02  156.53  160.55    160.55  117305600          2.90\n",
       "\n",
       "[128 rows x 7 columns]"
      ]
     },
     "execution_count": 50,
     "metadata": {},
     "output_type": "execute_result"
    }
   ],
   "source": [
    "# first we create the new column substracting the closing price with the open proce\n",
    "dataf['price_change']=dataf['close']-dataf['open']\n",
    "dataf['price_change']=dataf['price_change']\n",
    "dataf"
   ]
  },
  {
   "cell_type": "code",
   "execution_count": 75,
   "metadata": {
    "scrolled": true
   },
   "outputs": [
    {
     "data": {
      "text/html": [
       "<div>\n",
       "<style scoped>\n",
       "    .dataframe tbody tr th:only-of-type {\n",
       "        vertical-align: middle;\n",
       "    }\n",
       "\n",
       "    .dataframe tbody tr th {\n",
       "        vertical-align: top;\n",
       "    }\n",
       "\n",
       "    .dataframe thead th {\n",
       "        text-align: right;\n",
       "    }\n",
       "</style>\n",
       "<table border=\"1\" class=\"dataframe\">\n",
       "  <thead>\n",
       "    <tr style=\"text-align: right;\">\n",
       "      <th></th>\n",
       "      <th>open</th>\n",
       "      <th>high</th>\n",
       "      <th>low</th>\n",
       "      <th>close</th>\n",
       "      <th>adjclose</th>\n",
       "      <th>volume</th>\n",
       "      <th>price_change</th>\n",
       "    </tr>\n",
       "    <tr>\n",
       "      <th>Date</th>\n",
       "      <th></th>\n",
       "      <th></th>\n",
       "      <th></th>\n",
       "      <th></th>\n",
       "      <th></th>\n",
       "      <th></th>\n",
       "      <th></th>\n",
       "    </tr>\n",
       "  </thead>\n",
       "  <tbody>\n",
       "    <tr>\n",
       "      <th>2021-05-21</th>\n",
       "      <td>127.82</td>\n",
       "      <td>128.00</td>\n",
       "      <td>125.21</td>\n",
       "      <td>125.43</td>\n",
       "      <td>125.06</td>\n",
       "      <td>79.30</td>\n",
       "      <td>-2.39</td>\n",
       "    </tr>\n",
       "    <tr>\n",
       "      <th>2021-05-25</th>\n",
       "      <td>127.82</td>\n",
       "      <td>128.32</td>\n",
       "      <td>126.32</td>\n",
       "      <td>126.90</td>\n",
       "      <td>126.53</td>\n",
       "      <td>72.01</td>\n",
       "      <td>-0.92</td>\n",
       "    </tr>\n",
       "    <tr>\n",
       "      <th>2021-05-26</th>\n",
       "      <td>126.96</td>\n",
       "      <td>127.39</td>\n",
       "      <td>126.42</td>\n",
       "      <td>126.85</td>\n",
       "      <td>126.48</td>\n",
       "      <td>56.58</td>\n",
       "      <td>-0.11</td>\n",
       "    </tr>\n",
       "    <tr>\n",
       "      <th>2021-05-27</th>\n",
       "      <td>126.44</td>\n",
       "      <td>127.64</td>\n",
       "      <td>125.08</td>\n",
       "      <td>125.28</td>\n",
       "      <td>124.91</td>\n",
       "      <td>94.63</td>\n",
       "      <td>-1.16</td>\n",
       "    </tr>\n",
       "    <tr>\n",
       "      <th>2021-05-28</th>\n",
       "      <td>125.57</td>\n",
       "      <td>125.80</td>\n",
       "      <td>124.55</td>\n",
       "      <td>124.61</td>\n",
       "      <td>124.24</td>\n",
       "      <td>71.31</td>\n",
       "      <td>-0.96</td>\n",
       "    </tr>\n",
       "    <tr>\n",
       "      <th>...</th>\n",
       "      <td>...</td>\n",
       "      <td>...</td>\n",
       "      <td>...</td>\n",
       "      <td>...</td>\n",
       "      <td>...</td>\n",
       "      <td>...</td>\n",
       "      <td>...</td>\n",
       "    </tr>\n",
       "    <tr>\n",
       "      <th>2021-11-05</th>\n",
       "      <td>151.89</td>\n",
       "      <td>152.20</td>\n",
       "      <td>150.06</td>\n",
       "      <td>151.28</td>\n",
       "      <td>151.28</td>\n",
       "      <td>65.41</td>\n",
       "      <td>-0.61</td>\n",
       "    </tr>\n",
       "    <tr>\n",
       "      <th>2021-11-08</th>\n",
       "      <td>151.41</td>\n",
       "      <td>151.57</td>\n",
       "      <td>150.16</td>\n",
       "      <td>150.44</td>\n",
       "      <td>150.44</td>\n",
       "      <td>55.02</td>\n",
       "      <td>-0.97</td>\n",
       "    </tr>\n",
       "    <tr>\n",
       "      <th>2021-11-10</th>\n",
       "      <td>150.02</td>\n",
       "      <td>150.13</td>\n",
       "      <td>147.85</td>\n",
       "      <td>147.92</td>\n",
       "      <td>147.92</td>\n",
       "      <td>65.19</td>\n",
       "      <td>-2.10</td>\n",
       "    </tr>\n",
       "    <tr>\n",
       "      <th>2021-11-11</th>\n",
       "      <td>148.96</td>\n",
       "      <td>149.43</td>\n",
       "      <td>147.68</td>\n",
       "      <td>147.87</td>\n",
       "      <td>147.87</td>\n",
       "      <td>41.00</td>\n",
       "      <td>-1.09</td>\n",
       "    </tr>\n",
       "    <tr>\n",
       "      <th>2021-11-15</th>\n",
       "      <td>150.37</td>\n",
       "      <td>151.88</td>\n",
       "      <td>149.43</td>\n",
       "      <td>150.00</td>\n",
       "      <td>150.00</td>\n",
       "      <td>59.22</td>\n",
       "      <td>-0.37</td>\n",
       "    </tr>\n",
       "  </tbody>\n",
       "</table>\n",
       "<p>61 rows × 7 columns</p>\n",
       "</div>"
      ],
      "text/plain": [
       "              open    high     low   close  adjclose  volume  price_change\n",
       "Date                                                                      \n",
       "2021-05-21  127.82  128.00  125.21  125.43    125.06   79.30         -2.39\n",
       "2021-05-25  127.82  128.32  126.32  126.90    126.53   72.01         -0.92\n",
       "2021-05-26  126.96  127.39  126.42  126.85    126.48   56.58         -0.11\n",
       "2021-05-27  126.44  127.64  125.08  125.28    124.91   94.63         -1.16\n",
       "2021-05-28  125.57  125.80  124.55  124.61    124.24   71.31         -0.96\n",
       "...            ...     ...     ...     ...       ...     ...           ...\n",
       "2021-11-05  151.89  152.20  150.06  151.28    151.28   65.41         -0.61\n",
       "2021-11-08  151.41  151.57  150.16  150.44    150.44   55.02         -0.97\n",
       "2021-11-10  150.02  150.13  147.85  147.92    147.92   65.19         -2.10\n",
       "2021-11-11  148.96  149.43  147.68  147.87    147.87   41.00         -1.09\n",
       "2021-11-15  150.37  151.88  149.43  150.00    150.00   59.22         -0.37\n",
       "\n",
       "[61 rows x 7 columns]"
      ]
     },
     "execution_count": 75,
     "metadata": {},
     "output_type": "execute_result"
    }
   ],
   "source": [
    "# then we find which prices are less than 0, which means that the price went down\n",
    "price_down=dataf[dataf['price_change']<(0)]\n",
    "price_down"
   ]
  },
  {
   "cell_type": "code",
   "execution_count": 76,
   "metadata": {},
   "outputs": [
    {
     "name": "stdout",
     "output_type": "stream",
     "text": [
      "There is a total of 61 days where the price went down.\n"
     ]
    }
   ],
   "source": [
    "#then we count the days\n",
    "count=len(price_down.index)\n",
    "print(\"There is a total of\",count, \"days where the price went down.\")"
   ]
  },
  {
   "cell_type": "markdown",
   "metadata": {},
   "source": [
    "The price went down 61 days"
   ]
  },
  {
   "cell_type": "markdown",
   "metadata": {},
   "source": [
    "### Question 9: Scale the trading volume to be in millions of shares."
   ]
  },
  {
   "cell_type": "code",
   "execution_count": 51,
   "metadata": {},
   "outputs": [],
   "source": [
    "#the volume has to be divided by 1 million in order to get the data in million of shares\n",
    "dataf['volume']=(dataf['volume']/1000000)"
   ]
  },
  {
   "cell_type": "code",
   "execution_count": 52,
   "metadata": {
    "scrolled": true
   },
   "outputs": [
    {
     "data": {
      "text/html": [
       "<div>\n",
       "<style scoped>\n",
       "    .dataframe tbody tr th:only-of-type {\n",
       "        vertical-align: middle;\n",
       "    }\n",
       "\n",
       "    .dataframe tbody tr th {\n",
       "        vertical-align: top;\n",
       "    }\n",
       "\n",
       "    .dataframe thead th {\n",
       "        text-align: right;\n",
       "    }\n",
       "</style>\n",
       "<table border=\"1\" class=\"dataframe\">\n",
       "  <thead>\n",
       "    <tr style=\"text-align: right;\">\n",
       "      <th></th>\n",
       "      <th>open</th>\n",
       "      <th>high</th>\n",
       "      <th>low</th>\n",
       "      <th>close</th>\n",
       "      <th>adjclose</th>\n",
       "      <th>volume</th>\n",
       "      <th>price_change</th>\n",
       "    </tr>\n",
       "    <tr>\n",
       "      <th>Date</th>\n",
       "      <th></th>\n",
       "      <th></th>\n",
       "      <th></th>\n",
       "      <th></th>\n",
       "      <th></th>\n",
       "      <th></th>\n",
       "      <th></th>\n",
       "    </tr>\n",
       "  </thead>\n",
       "  <tbody>\n",
       "    <tr>\n",
       "      <th>2021-05-21</th>\n",
       "      <td>127.82</td>\n",
       "      <td>128.00</td>\n",
       "      <td>125.21</td>\n",
       "      <td>125.43</td>\n",
       "      <td>125.06</td>\n",
       "      <td>79.30</td>\n",
       "      <td>-2.39</td>\n",
       "    </tr>\n",
       "    <tr>\n",
       "      <th>2021-05-24</th>\n",
       "      <td>126.01</td>\n",
       "      <td>127.94</td>\n",
       "      <td>125.94</td>\n",
       "      <td>127.10</td>\n",
       "      <td>126.72</td>\n",
       "      <td>63.09</td>\n",
       "      <td>1.09</td>\n",
       "    </tr>\n",
       "    <tr>\n",
       "      <th>2021-05-25</th>\n",
       "      <td>127.82</td>\n",
       "      <td>128.32</td>\n",
       "      <td>126.32</td>\n",
       "      <td>126.90</td>\n",
       "      <td>126.53</td>\n",
       "      <td>72.01</td>\n",
       "      <td>-0.92</td>\n",
       "    </tr>\n",
       "    <tr>\n",
       "      <th>2021-05-26</th>\n",
       "      <td>126.96</td>\n",
       "      <td>127.39</td>\n",
       "      <td>126.42</td>\n",
       "      <td>126.85</td>\n",
       "      <td>126.48</td>\n",
       "      <td>56.58</td>\n",
       "      <td>-0.11</td>\n",
       "    </tr>\n",
       "    <tr>\n",
       "      <th>2021-05-27</th>\n",
       "      <td>126.44</td>\n",
       "      <td>127.64</td>\n",
       "      <td>125.08</td>\n",
       "      <td>125.28</td>\n",
       "      <td>124.91</td>\n",
       "      <td>94.63</td>\n",
       "      <td>-1.16</td>\n",
       "    </tr>\n",
       "    <tr>\n",
       "      <th>...</th>\n",
       "      <td>...</td>\n",
       "      <td>...</td>\n",
       "      <td>...</td>\n",
       "      <td>...</td>\n",
       "      <td>...</td>\n",
       "      <td>...</td>\n",
       "      <td>...</td>\n",
       "    </tr>\n",
       "    <tr>\n",
       "      <th>2021-11-15</th>\n",
       "      <td>150.37</td>\n",
       "      <td>151.88</td>\n",
       "      <td>149.43</td>\n",
       "      <td>150.00</td>\n",
       "      <td>150.00</td>\n",
       "      <td>59.22</td>\n",
       "      <td>-0.37</td>\n",
       "    </tr>\n",
       "    <tr>\n",
       "      <th>2021-11-16</th>\n",
       "      <td>149.94</td>\n",
       "      <td>151.49</td>\n",
       "      <td>149.34</td>\n",
       "      <td>151.00</td>\n",
       "      <td>151.00</td>\n",
       "      <td>59.26</td>\n",
       "      <td>1.06</td>\n",
       "    </tr>\n",
       "    <tr>\n",
       "      <th>2021-11-17</th>\n",
       "      <td>151.00</td>\n",
       "      <td>155.00</td>\n",
       "      <td>150.99</td>\n",
       "      <td>153.49</td>\n",
       "      <td>153.49</td>\n",
       "      <td>88.81</td>\n",
       "      <td>2.49</td>\n",
       "    </tr>\n",
       "    <tr>\n",
       "      <th>2021-11-18</th>\n",
       "      <td>153.71</td>\n",
       "      <td>158.67</td>\n",
       "      <td>153.05</td>\n",
       "      <td>157.87</td>\n",
       "      <td>157.87</td>\n",
       "      <td>137.83</td>\n",
       "      <td>4.16</td>\n",
       "    </tr>\n",
       "    <tr>\n",
       "      <th>2021-11-19</th>\n",
       "      <td>157.65</td>\n",
       "      <td>161.02</td>\n",
       "      <td>156.53</td>\n",
       "      <td>160.55</td>\n",
       "      <td>160.55</td>\n",
       "      <td>117.31</td>\n",
       "      <td>2.90</td>\n",
       "    </tr>\n",
       "  </tbody>\n",
       "</table>\n",
       "<p>128 rows × 7 columns</p>\n",
       "</div>"
      ],
      "text/plain": [
       "              open    high     low   close  adjclose  volume  price_change\n",
       "Date                                                                      \n",
       "2021-05-21  127.82  128.00  125.21  125.43    125.06   79.30         -2.39\n",
       "2021-05-24  126.01  127.94  125.94  127.10    126.72   63.09          1.09\n",
       "2021-05-25  127.82  128.32  126.32  126.90    126.53   72.01         -0.92\n",
       "2021-05-26  126.96  127.39  126.42  126.85    126.48   56.58         -0.11\n",
       "2021-05-27  126.44  127.64  125.08  125.28    124.91   94.63         -1.16\n",
       "...            ...     ...     ...     ...       ...     ...           ...\n",
       "2021-11-15  150.37  151.88  149.43  150.00    150.00   59.22         -0.37\n",
       "2021-11-16  149.94  151.49  149.34  151.00    151.00   59.26          1.06\n",
       "2021-11-17  151.00  155.00  150.99  153.49    153.49   88.81          2.49\n",
       "2021-11-18  153.71  158.67  153.05  157.87    157.87  137.83          4.16\n",
       "2021-11-19  157.65  161.02  156.53  160.55    160.55  117.31          2.90\n",
       "\n",
       "[128 rows x 7 columns]"
      ]
     },
     "execution_count": 52,
     "metadata": {},
     "output_type": "execute_result"
    }
   ],
   "source": [
    "dataf"
   ]
  },
  {
   "cell_type": "markdown",
   "metadata": {},
   "source": [
    "Now instead of the volume being 79295400, it is 79.30 million of shares."
   ]
  },
  {
   "cell_type": "markdown",
   "metadata": {},
   "source": [
    "### Question 10: What is the highest closing price of AAPL over the 6-month period?"
   ]
  },
  {
   "cell_type": "code",
   "execution_count": 58,
   "metadata": {},
   "outputs": [
    {
     "name": "stdout",
     "output_type": "stream",
     "text": [
      "The highest closing price is:  160.550003\n"
     ]
    }
   ],
   "source": [
    "highest_closing_price = max(dataf['close'])\n",
    "print(\"The highest closing price is: \",highest_closing_price)"
   ]
  },
  {
   "cell_type": "markdown",
   "metadata": {},
   "source": [
    "### Question 11: What is the date on which the highest closing price was reached?"
   ]
  },
  {
   "cell_type": "code",
   "execution_count": 59,
   "metadata": {},
   "outputs": [
    {
     "data": {
      "text/html": [
       "<div>\n",
       "<style scoped>\n",
       "    .dataframe tbody tr th:only-of-type {\n",
       "        vertical-align: middle;\n",
       "    }\n",
       "\n",
       "    .dataframe tbody tr th {\n",
       "        vertical-align: top;\n",
       "    }\n",
       "\n",
       "    .dataframe thead th {\n",
       "        text-align: right;\n",
       "    }\n",
       "</style>\n",
       "<table border=\"1\" class=\"dataframe\">\n",
       "  <thead>\n",
       "    <tr style=\"text-align: right;\">\n",
       "      <th></th>\n",
       "      <th>open</th>\n",
       "      <th>high</th>\n",
       "      <th>low</th>\n",
       "      <th>close</th>\n",
       "      <th>adjclose</th>\n",
       "      <th>volume</th>\n",
       "      <th>price_change</th>\n",
       "    </tr>\n",
       "    <tr>\n",
       "      <th>Date</th>\n",
       "      <th></th>\n",
       "      <th></th>\n",
       "      <th></th>\n",
       "      <th></th>\n",
       "      <th></th>\n",
       "      <th></th>\n",
       "      <th></th>\n",
       "    </tr>\n",
       "  </thead>\n",
       "  <tbody>\n",
       "    <tr>\n",
       "      <th>2021-11-19</th>\n",
       "      <td>157.65</td>\n",
       "      <td>161.02</td>\n",
       "      <td>156.53</td>\n",
       "      <td>160.55</td>\n",
       "      <td>160.55</td>\n",
       "      <td>117.31</td>\n",
       "      <td>2.9</td>\n",
       "    </tr>\n",
       "  </tbody>\n",
       "</table>\n",
       "</div>"
      ],
      "text/plain": [
       "              open    high     low   close  adjclose  volume  price_change\n",
       "Date                                                                      \n",
       "2021-11-19  157.65  161.02  156.53  160.55    160.55  117.31           2.9"
      ]
     },
     "execution_count": 59,
     "metadata": {},
     "output_type": "execute_result"
    }
   ],
   "source": [
    "highest_closing_date = dataf[dataf['close'] == highest_closing_price]\n",
    "highest_closing_date"
   ]
  },
  {
   "cell_type": "markdown",
   "metadata": {},
   "source": [
    "The highest closing date is the 19 of November of 2021 "
   ]
  },
  {
   "cell_type": "code",
   "execution_count": 60,
   "metadata": {},
   "outputs": [],
   "source": [
    "import matplotlib.pyplot as plot\n",
    "import seaborn as sns"
   ]
  },
  {
   "cell_type": "markdown",
   "metadata": {},
   "source": [
    "### Question 12: Create Visuals to show how the closing price behaved."
   ]
  },
  {
   "cell_type": "markdown",
   "metadata": {},
   "source": [
    "### Question 12a: Create a Chart to show the distribution of closing price over the 6-month period."
   ]
  },
  {
   "cell_type": "code",
   "execution_count": 61,
   "metadata": {
    "scrolled": true
   },
   "outputs": [
    {
     "data": {
      "text/plain": [
       "Text(0.5, 1.0, 'closing price over 6 moths of period')"
      ]
     },
     "execution_count": 61,
     "metadata": {},
     "output_type": "execute_result"
    },
    {
     "data": {
      "image/png": "[encoded data removed]",
      "text/plain": [
       "<Figure size 432x288 with 1 Axes>"
      ]
     },
     "metadata": {
      "needs_background": "light"
     },
     "output_type": "display_data"
    }
   ],
   "source": [
    "g1=sns.scatterplot(data=dataf, x=\"Date\", y=\"close\")\n",
    "g1.set_title(\"closing price over 6 moths of period\")"
   ]
  },
  {
   "cell_type": "markdown",
   "metadata": {},
   "source": [
    "In this graph we can see how the closing price increases day by day."
   ]
  },
  {
   "cell_type": "markdown",
   "metadata": {},
   "source": [
    "### Question 12b: Create another chart to show the trend over time of the closing price."
   ]
  },
  {
   "cell_type": "code",
   "execution_count": 79,
   "metadata": {},
   "outputs": [
    {
     "data": {
      "text/plain": [
       "Text(0.5, 1.0, 'trend over 6 moths of period')"
      ]
     },
     "execution_count": 79,
     "metadata": {},
     "output_type": "execute_result"
    },
    {
     "data": {
      "image/png": "[encoded data removed]",
      "text/plain": [
       "<Figure size 432x288 with 1 Axes>"
      ]
     },
     "metadata": {
      "needs_background": "light"
     },
     "output_type": "display_data"
    }
   ],
   "source": [
    "g2=sns.lineplot(data=dataf, x=\"Date\", y=\"close\")\n",
    "g2.set_title(\"trend over 6 moths of period\")"
   ]
  },
  {
   "cell_type": "markdown",
   "metadata": {},
   "source": [
    "As well, in this chart we can see how the trend for the closing price is to increase during the six months."
   ]
  },
  {
   "cell_type": "markdown",
   "metadata": {},
   "source": [
    "### Question 13:  Create a visual to inspect the relation between trading volume and closing price in the dataset. "
   ]
  },
  {
   "cell_type": "code",
   "execution_count": 63,
   "metadata": {},
   "outputs": [
    {
     "data": {
      "text/plain": [
       "Text(0.5, 1.0, 'relation between trading volume and closing price')"
      ]
     },
     "execution_count": 63,
     "metadata": {},
     "output_type": "execute_result"
    },
    {
     "data": {
      "image/png": "[encoded data removed]",
      "text/plain": [
       "<Figure size 432x288 with 1 Axes>"
      ]
     },
     "metadata": {
      "needs_background": "light"
     },
     "output_type": "display_data"
    }
   ],
   "source": [
    "g3=sns.histplot(data=dataf, x=\"volume\", y=\"close\")\n",
    "g3.set_title(\"relation between trading volume and closing price\")"
   ]
  },
  {
   "cell_type": "markdown",
   "metadata": {},
   "source": [
    "By the density of the color, we can see that the darker the blue is,\n",
    "the stronger the relation between trading volume and closing price is.\n",
    "So, by price 150 and volume 60000, the relation is really strong."
   ]
  },
  {
   "cell_type": "markdown",
   "metadata": {},
   "source": [
    "### Question 14: Create another chart to examine the trend in trading volume over time. "
   ]
  },
  {
   "cell_type": "code",
   "execution_count": 64,
   "metadata": {
    "scrolled": true
   },
   "outputs": [
    {
     "data": {
      "text/plain": [
       "Text(0.5, 1.0, 'trading volume over time')"
      ]
     },
     "execution_count": 64,
     "metadata": {},
     "output_type": "execute_result"
    },
    {
     "data": {
      "image/png": "[encoded data removed]",
      "text/plain": [
       "<Figure size 432x288 with 1 Axes>"
      ]
     },
     "metadata": {
      "needs_background": "light"
     },
     "output_type": "display_data"
    }
   ],
   "source": [
    "g4=sns.lineplot(data=dataf, x=\"Date\", y=\"volume\")\n",
    "g4.set_title(\"trading volume over time\")"
   ]
  },
  {
   "cell_type": "markdown",
   "metadata": {},
   "source": [
    "We can see on this chart that the trend in trading volume is very volatile, it has many ups and downs, and it is not constant."
   ]
  },
  {
   "cell_type": "markdown",
   "metadata": {},
   "source": [
    "### Question 15: Calculate and display the number of trading days on which the closing price is equal to or above 150."
   ]
  },
  {
   "cell_type": "code",
   "execution_count": 70,
   "metadata": {},
   "outputs": [
    {
     "data": {
      "text/html": [
       "<div>\n",
       "<style scoped>\n",
       "    .dataframe tbody tr th:only-of-type {\n",
       "        vertical-align: middle;\n",
       "    }\n",
       "\n",
       "    .dataframe tbody tr th {\n",
       "        vertical-align: top;\n",
       "    }\n",
       "\n",
       "    .dataframe thead th {\n",
       "        text-align: right;\n",
       "    }\n",
       "</style>\n",
       "<table border=\"1\" class=\"dataframe\">\n",
       "  <thead>\n",
       "    <tr style=\"text-align: right;\">\n",
       "      <th></th>\n",
       "      <th>open</th>\n",
       "      <th>high</th>\n",
       "      <th>low</th>\n",
       "      <th>close</th>\n",
       "      <th>adjclose</th>\n",
       "      <th>volume</th>\n",
       "      <th>price_change</th>\n",
       "    </tr>\n",
       "    <tr>\n",
       "      <th>Date</th>\n",
       "      <th></th>\n",
       "      <th></th>\n",
       "      <th></th>\n",
       "      <th></th>\n",
       "      <th></th>\n",
       "      <th></th>\n",
       "      <th></th>\n",
       "    </tr>\n",
       "  </thead>\n",
       "  <tbody>\n",
       "    <tr>\n",
       "      <th>2021-08-16</th>\n",
       "      <td>148.54</td>\n",
       "      <td>151.19</td>\n",
       "      <td>146.47</td>\n",
       "      <td>151.12</td>\n",
       "      <td>150.90</td>\n",
       "      <td>103.30</td>\n",
       "      <td>2.58</td>\n",
       "    </tr>\n",
       "    <tr>\n",
       "      <th>2021-08-17</th>\n",
       "      <td>150.23</td>\n",
       "      <td>151.68</td>\n",
       "      <td>149.09</td>\n",
       "      <td>150.19</td>\n",
       "      <td>149.97</td>\n",
       "      <td>92.23</td>\n",
       "      <td>-0.04</td>\n",
       "    </tr>\n",
       "    <tr>\n",
       "      <th>2021-08-30</th>\n",
       "      <td>149.00</td>\n",
       "      <td>153.49</td>\n",
       "      <td>148.61</td>\n",
       "      <td>153.12</td>\n",
       "      <td>152.90</td>\n",
       "      <td>90.96</td>\n",
       "      <td>4.12</td>\n",
       "    </tr>\n",
       "    <tr>\n",
       "      <th>2021-08-31</th>\n",
       "      <td>152.66</td>\n",
       "      <td>152.80</td>\n",
       "      <td>151.29</td>\n",
       "      <td>151.83</td>\n",
       "      <td>151.61</td>\n",
       "      <td>86.45</td>\n",
       "      <td>-0.83</td>\n",
       "    </tr>\n",
       "    <tr>\n",
       "      <th>2021-09-01</th>\n",
       "      <td>152.83</td>\n",
       "      <td>154.98</td>\n",
       "      <td>152.34</td>\n",
       "      <td>152.51</td>\n",
       "      <td>152.29</td>\n",
       "      <td>80.31</td>\n",
       "      <td>-0.32</td>\n",
       "    </tr>\n",
       "    <tr>\n",
       "      <th>2021-09-02</th>\n",
       "      <td>153.87</td>\n",
       "      <td>154.72</td>\n",
       "      <td>152.40</td>\n",
       "      <td>153.65</td>\n",
       "      <td>153.43</td>\n",
       "      <td>71.12</td>\n",
       "      <td>-0.22</td>\n",
       "    </tr>\n",
       "    <tr>\n",
       "      <th>2021-09-03</th>\n",
       "      <td>153.76</td>\n",
       "      <td>154.63</td>\n",
       "      <td>153.09</td>\n",
       "      <td>154.30</td>\n",
       "      <td>154.08</td>\n",
       "      <td>57.81</td>\n",
       "      <td>0.54</td>\n",
       "    </tr>\n",
       "    <tr>\n",
       "      <th>2021-09-07</th>\n",
       "      <td>154.97</td>\n",
       "      <td>157.26</td>\n",
       "      <td>154.39</td>\n",
       "      <td>156.69</td>\n",
       "      <td>156.46</td>\n",
       "      <td>82.28</td>\n",
       "      <td>1.72</td>\n",
       "    </tr>\n",
       "    <tr>\n",
       "      <th>2021-09-08</th>\n",
       "      <td>156.98</td>\n",
       "      <td>157.04</td>\n",
       "      <td>153.98</td>\n",
       "      <td>155.11</td>\n",
       "      <td>154.88</td>\n",
       "      <td>74.42</td>\n",
       "      <td>-1.87</td>\n",
       "    </tr>\n",
       "    <tr>\n",
       "      <th>2021-09-09</th>\n",
       "      <td>155.49</td>\n",
       "      <td>156.11</td>\n",
       "      <td>153.95</td>\n",
       "      <td>154.07</td>\n",
       "      <td>153.85</td>\n",
       "      <td>57.31</td>\n",
       "      <td>-1.42</td>\n",
       "    </tr>\n",
       "    <tr>\n",
       "      <th>2021-10-28</th>\n",
       "      <td>149.82</td>\n",
       "      <td>153.17</td>\n",
       "      <td>149.72</td>\n",
       "      <td>152.57</td>\n",
       "      <td>152.35</td>\n",
       "      <td>100.08</td>\n",
       "      <td>2.75</td>\n",
       "    </tr>\n",
       "    <tr>\n",
       "      <th>2021-11-02</th>\n",
       "      <td>148.66</td>\n",
       "      <td>151.57</td>\n",
       "      <td>148.65</td>\n",
       "      <td>150.02</td>\n",
       "      <td>149.80</td>\n",
       "      <td>69.12</td>\n",
       "      <td>1.36</td>\n",
       "    </tr>\n",
       "    <tr>\n",
       "      <th>2021-11-03</th>\n",
       "      <td>150.39</td>\n",
       "      <td>151.97</td>\n",
       "      <td>149.82</td>\n",
       "      <td>151.49</td>\n",
       "      <td>151.27</td>\n",
       "      <td>54.51</td>\n",
       "      <td>1.10</td>\n",
       "    </tr>\n",
       "    <tr>\n",
       "      <th>2021-11-04</th>\n",
       "      <td>151.58</td>\n",
       "      <td>152.43</td>\n",
       "      <td>150.64</td>\n",
       "      <td>150.96</td>\n",
       "      <td>150.74</td>\n",
       "      <td>60.39</td>\n",
       "      <td>-0.62</td>\n",
       "    </tr>\n",
       "    <tr>\n",
       "      <th>2021-11-05</th>\n",
       "      <td>151.89</td>\n",
       "      <td>152.20</td>\n",
       "      <td>150.06</td>\n",
       "      <td>151.28</td>\n",
       "      <td>151.28</td>\n",
       "      <td>65.41</td>\n",
       "      <td>-0.61</td>\n",
       "    </tr>\n",
       "    <tr>\n",
       "      <th>2021-11-08</th>\n",
       "      <td>151.41</td>\n",
       "      <td>151.57</td>\n",
       "      <td>150.16</td>\n",
       "      <td>150.44</td>\n",
       "      <td>150.44</td>\n",
       "      <td>55.02</td>\n",
       "      <td>-0.97</td>\n",
       "    </tr>\n",
       "    <tr>\n",
       "      <th>2021-11-09</th>\n",
       "      <td>150.20</td>\n",
       "      <td>151.43</td>\n",
       "      <td>150.06</td>\n",
       "      <td>150.81</td>\n",
       "      <td>150.81</td>\n",
       "      <td>56.79</td>\n",
       "      <td>0.61</td>\n",
       "    </tr>\n",
       "    <tr>\n",
       "      <th>2021-11-15</th>\n",
       "      <td>150.37</td>\n",
       "      <td>151.88</td>\n",
       "      <td>149.43</td>\n",
       "      <td>150.00</td>\n",
       "      <td>150.00</td>\n",
       "      <td>59.22</td>\n",
       "      <td>-0.37</td>\n",
       "    </tr>\n",
       "    <tr>\n",
       "      <th>2021-11-16</th>\n",
       "      <td>149.94</td>\n",
       "      <td>151.49</td>\n",
       "      <td>149.34</td>\n",
       "      <td>151.00</td>\n",
       "      <td>151.00</td>\n",
       "      <td>59.26</td>\n",
       "      <td>1.06</td>\n",
       "    </tr>\n",
       "    <tr>\n",
       "      <th>2021-11-17</th>\n",
       "      <td>151.00</td>\n",
       "      <td>155.00</td>\n",
       "      <td>150.99</td>\n",
       "      <td>153.49</td>\n",
       "      <td>153.49</td>\n",
       "      <td>88.81</td>\n",
       "      <td>2.49</td>\n",
       "    </tr>\n",
       "    <tr>\n",
       "      <th>2021-11-18</th>\n",
       "      <td>153.71</td>\n",
       "      <td>158.67</td>\n",
       "      <td>153.05</td>\n",
       "      <td>157.87</td>\n",
       "      <td>157.87</td>\n",
       "      <td>137.83</td>\n",
       "      <td>4.16</td>\n",
       "    </tr>\n",
       "    <tr>\n",
       "      <th>2021-11-19</th>\n",
       "      <td>157.65</td>\n",
       "      <td>161.02</td>\n",
       "      <td>156.53</td>\n",
       "      <td>160.55</td>\n",
       "      <td>160.55</td>\n",
       "      <td>117.31</td>\n",
       "      <td>2.90</td>\n",
       "    </tr>\n",
       "  </tbody>\n",
       "</table>\n",
       "</div>"
      ],
      "text/plain": [
       "              open    high     low   close  adjclose  volume  price_change\n",
       "Date                                                                      \n",
       "2021-08-16  148.54  151.19  146.47  151.12    150.90  103.30          2.58\n",
       "2021-08-17  150.23  151.68  149.09  150.19    149.97   92.23         -0.04\n",
       "2021-08-30  149.00  153.49  148.61  153.12    152.90   90.96          4.12\n",
       "2021-08-31  152.66  152.80  151.29  151.83    151.61   86.45         -0.83\n",
       "2021-09-01  152.83  154.98  152.34  152.51    152.29   80.31         -0.32\n",
       "2021-09-02  153.87  154.72  152.40  153.65    153.43   71.12         -0.22\n",
       "2021-09-03  153.76  154.63  153.09  154.30    154.08   57.81          0.54\n",
       "2021-09-07  154.97  157.26  154.39  156.69    156.46   82.28          1.72\n",
       "2021-09-08  156.98  157.04  153.98  155.11    154.88   74.42         -1.87\n",
       "2021-09-09  155.49  156.11  153.95  154.07    153.85   57.31         -1.42\n",
       "2021-10-28  149.82  153.17  149.72  152.57    152.35  100.08          2.75\n",
       "2021-11-02  148.66  151.57  148.65  150.02    149.80   69.12          1.36\n",
       "2021-11-03  150.39  151.97  149.82  151.49    151.27   54.51          1.10\n",
       "2021-11-04  151.58  152.43  150.64  150.96    150.74   60.39         -0.62\n",
       "2021-11-05  151.89  152.20  150.06  151.28    151.28   65.41         -0.61\n",
       "2021-11-08  151.41  151.57  150.16  150.44    150.44   55.02         -0.97\n",
       "2021-11-09  150.20  151.43  150.06  150.81    150.81   56.79          0.61\n",
       "2021-11-15  150.37  151.88  149.43  150.00    150.00   59.22         -0.37\n",
       "2021-11-16  149.94  151.49  149.34  151.00    151.00   59.26          1.06\n",
       "2021-11-17  151.00  155.00  150.99  153.49    153.49   88.81          2.49\n",
       "2021-11-18  153.71  158.67  153.05  157.87    157.87  137.83          4.16\n",
       "2021-11-19  157.65  161.02  156.53  160.55    160.55  117.31          2.90"
      ]
     },
     "execution_count": 70,
     "metadata": {},
     "output_type": "execute_result"
    }
   ],
   "source": [
    "c_price=dataf[dataf['close']>=(150)]\n",
    "c_price"
   ]
  },
  {
   "cell_type": "code",
   "execution_count": 71,
   "metadata": {},
   "outputs": [
    {
     "name": "stdout",
     "output_type": "stream",
     "text": [
      "There is a total of 22 days where the closing price is equal or above 150.\n"
     ]
    }
   ],
   "source": [
    "count=len(c_price.index)\n",
    "print(\"There is a total of\",count, \"days where the closing price is equal or above 150.\")"
   ]
  },
  {
   "cell_type": "markdown",
   "metadata": {},
   "source": [
    "### Question 16: What is the average trading volume over the 6-month period?"
   ]
  },
  {
   "cell_type": "code",
   "execution_count": 72,
   "metadata": {},
   "outputs": [
    {
     "name": "stdout",
     "output_type": "stream",
     "text": [
      "The average trading volume over the 6-month period is 76.98\n"
     ]
    }
   ],
   "source": [
    "avg=dataf['volume'].mean()\n",
    "print(\"The average trading volume over the 6-month period is\", round (avg , 2))"
   ]
  },
  {
   "cell_type": "markdown",
   "metadata": {},
   "source": [
    "### Question 17: Create a new DataFrame of the AAPL stock data for the days when trading volume is above average, and stock closing price is above 125."
   ]
  },
  {
   "cell_type": "code",
   "execution_count": 73,
   "metadata": {},
   "outputs": [
    {
     "data": {
      "text/html": [
       "<div>\n",
       "<style scoped>\n",
       "    .dataframe tbody tr th:only-of-type {\n",
       "        vertical-align: middle;\n",
       "    }\n",
       "\n",
       "    .dataframe tbody tr th {\n",
       "        vertical-align: top;\n",
       "    }\n",
       "\n",
       "    .dataframe thead th {\n",
       "        text-align: right;\n",
       "    }\n",
       "</style>\n",
       "<table border=\"1\" class=\"dataframe\">\n",
       "  <thead>\n",
       "    <tr style=\"text-align: right;\">\n",
       "      <th></th>\n",
       "      <th>open</th>\n",
       "      <th>high</th>\n",
       "      <th>low</th>\n",
       "      <th>close</th>\n",
       "      <th>adjclose</th>\n",
       "      <th>volume</th>\n",
       "      <th>price_change</th>\n",
       "    </tr>\n",
       "    <tr>\n",
       "      <th>Date</th>\n",
       "      <th></th>\n",
       "      <th></th>\n",
       "      <th></th>\n",
       "      <th></th>\n",
       "      <th></th>\n",
       "      <th></th>\n",
       "      <th></th>\n",
       "    </tr>\n",
       "  </thead>\n",
       "  <tbody>\n",
       "    <tr>\n",
       "      <th>2021-05-21</th>\n",
       "      <td>127.82</td>\n",
       "      <td>128.00</td>\n",
       "      <td>125.21</td>\n",
       "      <td>125.43</td>\n",
       "      <td>125.06</td>\n",
       "      <td>79.30</td>\n",
       "      <td>-2.39</td>\n",
       "    </tr>\n",
       "    <tr>\n",
       "      <th>2021-05-27</th>\n",
       "      <td>126.44</td>\n",
       "      <td>127.64</td>\n",
       "      <td>125.08</td>\n",
       "      <td>125.28</td>\n",
       "      <td>124.91</td>\n",
       "      <td>94.63</td>\n",
       "      <td>-1.16</td>\n",
       "    </tr>\n",
       "    <tr>\n",
       "      <th>2021-06-14</th>\n",
       "      <td>127.82</td>\n",
       "      <td>130.54</td>\n",
       "      <td>127.07</td>\n",
       "      <td>130.48</td>\n",
       "      <td>130.09</td>\n",
       "      <td>96.91</td>\n",
       "      <td>2.66</td>\n",
       "    </tr>\n",
       "    <tr>\n",
       "      <th>2021-06-16</th>\n",
       "      <td>130.37</td>\n",
       "      <td>130.89</td>\n",
       "      <td>128.46</td>\n",
       "      <td>130.15</td>\n",
       "      <td>129.77</td>\n",
       "      <td>91.81</td>\n",
       "      <td>-0.22</td>\n",
       "    </tr>\n",
       "    <tr>\n",
       "      <th>2021-06-17</th>\n",
       "      <td>129.80</td>\n",
       "      <td>132.55</td>\n",
       "      <td>129.65</td>\n",
       "      <td>131.79</td>\n",
       "      <td>131.40</td>\n",
       "      <td>96.72</td>\n",
       "      <td>1.99</td>\n",
       "    </tr>\n",
       "    <tr>\n",
       "      <th>2021-06-18</th>\n",
       "      <td>130.71</td>\n",
       "      <td>131.51</td>\n",
       "      <td>130.24</td>\n",
       "      <td>130.46</td>\n",
       "      <td>130.07</td>\n",
       "      <td>108.95</td>\n",
       "      <td>-0.25</td>\n",
       "    </tr>\n",
       "    <tr>\n",
       "      <th>2021-06-21</th>\n",
       "      <td>130.30</td>\n",
       "      <td>132.41</td>\n",
       "      <td>129.21</td>\n",
       "      <td>132.30</td>\n",
       "      <td>131.91</td>\n",
       "      <td>79.66</td>\n",
       "      <td>2.00</td>\n",
       "    </tr>\n",
       "    <tr>\n",
       "      <th>2021-07-02</th>\n",
       "      <td>137.90</td>\n",
       "      <td>140.00</td>\n",
       "      <td>137.75</td>\n",
       "      <td>139.96</td>\n",
       "      <td>139.55</td>\n",
       "      <td>78.85</td>\n",
       "      <td>2.06</td>\n",
       "    </tr>\n",
       "    <tr>\n",
       "      <th>2021-07-06</th>\n",
       "      <td>140.07</td>\n",
       "      <td>143.15</td>\n",
       "      <td>140.07</td>\n",
       "      <td>142.02</td>\n",
       "      <td>141.60</td>\n",
       "      <td>108.18</td>\n",
       "      <td>1.95</td>\n",
       "    </tr>\n",
       "    <tr>\n",
       "      <th>2021-07-07</th>\n",
       "      <td>143.54</td>\n",
       "      <td>144.89</td>\n",
       "      <td>142.66</td>\n",
       "      <td>144.57</td>\n",
       "      <td>144.14</td>\n",
       "      <td>104.91</td>\n",
       "      <td>1.03</td>\n",
       "    </tr>\n",
       "    <tr>\n",
       "      <th>2021-07-08</th>\n",
       "      <td>141.58</td>\n",
       "      <td>144.06</td>\n",
       "      <td>140.67</td>\n",
       "      <td>143.24</td>\n",
       "      <td>142.82</td>\n",
       "      <td>105.58</td>\n",
       "      <td>1.66</td>\n",
       "    </tr>\n",
       "    <tr>\n",
       "      <th>2021-07-09</th>\n",
       "      <td>142.75</td>\n",
       "      <td>145.65</td>\n",
       "      <td>142.65</td>\n",
       "      <td>145.11</td>\n",
       "      <td>144.68</td>\n",
       "      <td>99.89</td>\n",
       "      <td>2.36</td>\n",
       "    </tr>\n",
       "    <tr>\n",
       "      <th>2021-07-13</th>\n",
       "      <td>144.03</td>\n",
       "      <td>147.46</td>\n",
       "      <td>143.63</td>\n",
       "      <td>145.64</td>\n",
       "      <td>145.21</td>\n",
       "      <td>100.83</td>\n",
       "      <td>1.61</td>\n",
       "    </tr>\n",
       "    <tr>\n",
       "      <th>2021-07-14</th>\n",
       "      <td>148.10</td>\n",
       "      <td>149.57</td>\n",
       "      <td>147.68</td>\n",
       "      <td>149.15</td>\n",
       "      <td>148.71</td>\n",
       "      <td>127.05</td>\n",
       "      <td>1.05</td>\n",
       "    </tr>\n",
       "    <tr>\n",
       "      <th>2021-07-15</th>\n",
       "      <td>149.24</td>\n",
       "      <td>150.00</td>\n",
       "      <td>147.09</td>\n",
       "      <td>148.48</td>\n",
       "      <td>148.04</td>\n",
       "      <td>106.82</td>\n",
       "      <td>-0.76</td>\n",
       "    </tr>\n",
       "    <tr>\n",
       "      <th>2021-07-16</th>\n",
       "      <td>148.46</td>\n",
       "      <td>149.76</td>\n",
       "      <td>145.88</td>\n",
       "      <td>146.39</td>\n",
       "      <td>145.96</td>\n",
       "      <td>93.25</td>\n",
       "      <td>-2.07</td>\n",
       "    </tr>\n",
       "    <tr>\n",
       "      <th>2021-07-19</th>\n",
       "      <td>143.75</td>\n",
       "      <td>144.07</td>\n",
       "      <td>141.67</td>\n",
       "      <td>142.45</td>\n",
       "      <td>142.03</td>\n",
       "      <td>121.43</td>\n",
       "      <td>-1.30</td>\n",
       "    </tr>\n",
       "    <tr>\n",
       "      <th>2021-07-20</th>\n",
       "      <td>143.46</td>\n",
       "      <td>147.10</td>\n",
       "      <td>142.96</td>\n",
       "      <td>146.15</td>\n",
       "      <td>145.72</td>\n",
       "      <td>96.35</td>\n",
       "      <td>2.69</td>\n",
       "    </tr>\n",
       "    <tr>\n",
       "      <th>2021-07-22</th>\n",
       "      <td>145.94</td>\n",
       "      <td>148.20</td>\n",
       "      <td>145.81</td>\n",
       "      <td>146.80</td>\n",
       "      <td>146.37</td>\n",
       "      <td>77.34</td>\n",
       "      <td>0.86</td>\n",
       "    </tr>\n",
       "    <tr>\n",
       "      <th>2021-07-27</th>\n",
       "      <td>149.12</td>\n",
       "      <td>149.21</td>\n",
       "      <td>145.55</td>\n",
       "      <td>146.77</td>\n",
       "      <td>146.34</td>\n",
       "      <td>104.82</td>\n",
       "      <td>-2.35</td>\n",
       "    </tr>\n",
       "    <tr>\n",
       "      <th>2021-07-28</th>\n",
       "      <td>144.81</td>\n",
       "      <td>146.97</td>\n",
       "      <td>142.54</td>\n",
       "      <td>144.98</td>\n",
       "      <td>144.55</td>\n",
       "      <td>118.93</td>\n",
       "      <td>0.17</td>\n",
       "    </tr>\n",
       "    <tr>\n",
       "      <th>2021-08-16</th>\n",
       "      <td>148.54</td>\n",
       "      <td>151.19</td>\n",
       "      <td>146.47</td>\n",
       "      <td>151.12</td>\n",
       "      <td>150.90</td>\n",
       "      <td>103.30</td>\n",
       "      <td>2.58</td>\n",
       "    </tr>\n",
       "    <tr>\n",
       "      <th>2021-08-17</th>\n",
       "      <td>150.23</td>\n",
       "      <td>151.68</td>\n",
       "      <td>149.09</td>\n",
       "      <td>150.19</td>\n",
       "      <td>149.97</td>\n",
       "      <td>92.23</td>\n",
       "      <td>-0.04</td>\n",
       "    </tr>\n",
       "    <tr>\n",
       "      <th>2021-08-18</th>\n",
       "      <td>149.80</td>\n",
       "      <td>150.72</td>\n",
       "      <td>146.15</td>\n",
       "      <td>146.36</td>\n",
       "      <td>146.15</td>\n",
       "      <td>86.33</td>\n",
       "      <td>-3.44</td>\n",
       "    </tr>\n",
       "    <tr>\n",
       "      <th>2021-08-19</th>\n",
       "      <td>145.03</td>\n",
       "      <td>148.00</td>\n",
       "      <td>144.50</td>\n",
       "      <td>146.70</td>\n",
       "      <td>146.49</td>\n",
       "      <td>86.96</td>\n",
       "      <td>1.67</td>\n",
       "    </tr>\n",
       "    <tr>\n",
       "      <th>2021-08-30</th>\n",
       "      <td>149.00</td>\n",
       "      <td>153.49</td>\n",
       "      <td>148.61</td>\n",
       "      <td>153.12</td>\n",
       "      <td>152.90</td>\n",
       "      <td>90.96</td>\n",
       "      <td>4.12</td>\n",
       "    </tr>\n",
       "    <tr>\n",
       "      <th>2021-08-31</th>\n",
       "      <td>152.66</td>\n",
       "      <td>152.80</td>\n",
       "      <td>151.29</td>\n",
       "      <td>151.83</td>\n",
       "      <td>151.61</td>\n",
       "      <td>86.45</td>\n",
       "      <td>-0.83</td>\n",
       "    </tr>\n",
       "    <tr>\n",
       "      <th>2021-09-01</th>\n",
       "      <td>152.83</td>\n",
       "      <td>154.98</td>\n",
       "      <td>152.34</td>\n",
       "      <td>152.51</td>\n",
       "      <td>152.29</td>\n",
       "      <td>80.31</td>\n",
       "      <td>-0.32</td>\n",
       "    </tr>\n",
       "    <tr>\n",
       "      <th>2021-09-07</th>\n",
       "      <td>154.97</td>\n",
       "      <td>157.26</td>\n",
       "      <td>154.39</td>\n",
       "      <td>156.69</td>\n",
       "      <td>156.46</td>\n",
       "      <td>82.28</td>\n",
       "      <td>1.72</td>\n",
       "    </tr>\n",
       "    <tr>\n",
       "      <th>2021-09-10</th>\n",
       "      <td>155.00</td>\n",
       "      <td>155.48</td>\n",
       "      <td>148.70</td>\n",
       "      <td>148.97</td>\n",
       "      <td>148.75</td>\n",
       "      <td>140.65</td>\n",
       "      <td>-6.03</td>\n",
       "    </tr>\n",
       "    <tr>\n",
       "      <th>2021-09-13</th>\n",
       "      <td>150.63</td>\n",
       "      <td>151.42</td>\n",
       "      <td>148.75</td>\n",
       "      <td>149.55</td>\n",
       "      <td>149.33</td>\n",
       "      <td>102.40</td>\n",
       "      <td>-1.08</td>\n",
       "    </tr>\n",
       "    <tr>\n",
       "      <th>2021-09-14</th>\n",
       "      <td>150.35</td>\n",
       "      <td>151.07</td>\n",
       "      <td>146.91</td>\n",
       "      <td>148.12</td>\n",
       "      <td>147.90</td>\n",
       "      <td>109.30</td>\n",
       "      <td>-2.23</td>\n",
       "    </tr>\n",
       "    <tr>\n",
       "      <th>2021-09-15</th>\n",
       "      <td>148.56</td>\n",
       "      <td>149.44</td>\n",
       "      <td>146.37</td>\n",
       "      <td>149.03</td>\n",
       "      <td>148.81</td>\n",
       "      <td>83.28</td>\n",
       "      <td>0.47</td>\n",
       "    </tr>\n",
       "    <tr>\n",
       "      <th>2021-09-17</th>\n",
       "      <td>148.82</td>\n",
       "      <td>148.82</td>\n",
       "      <td>145.76</td>\n",
       "      <td>146.06</td>\n",
       "      <td>145.85</td>\n",
       "      <td>129.87</td>\n",
       "      <td>-2.76</td>\n",
       "    </tr>\n",
       "    <tr>\n",
       "      <th>2021-09-20</th>\n",
       "      <td>143.80</td>\n",
       "      <td>144.84</td>\n",
       "      <td>141.27</td>\n",
       "      <td>142.94</td>\n",
       "      <td>142.73</td>\n",
       "      <td>123.48</td>\n",
       "      <td>-0.86</td>\n",
       "    </tr>\n",
       "    <tr>\n",
       "      <th>2021-09-28</th>\n",
       "      <td>143.25</td>\n",
       "      <td>144.75</td>\n",
       "      <td>141.69</td>\n",
       "      <td>141.91</td>\n",
       "      <td>141.70</td>\n",
       "      <td>108.97</td>\n",
       "      <td>-1.34</td>\n",
       "    </tr>\n",
       "    <tr>\n",
       "      <th>2021-09-30</th>\n",
       "      <td>143.66</td>\n",
       "      <td>144.38</td>\n",
       "      <td>141.28</td>\n",
       "      <td>141.50</td>\n",
       "      <td>141.29</td>\n",
       "      <td>88.93</td>\n",
       "      <td>-2.16</td>\n",
       "    </tr>\n",
       "    <tr>\n",
       "      <th>2021-10-01</th>\n",
       "      <td>141.90</td>\n",
       "      <td>142.92</td>\n",
       "      <td>139.11</td>\n",
       "      <td>142.65</td>\n",
       "      <td>142.44</td>\n",
       "      <td>94.64</td>\n",
       "      <td>0.75</td>\n",
       "    </tr>\n",
       "    <tr>\n",
       "      <th>2021-10-04</th>\n",
       "      <td>141.76</td>\n",
       "      <td>142.21</td>\n",
       "      <td>138.27</td>\n",
       "      <td>139.14</td>\n",
       "      <td>138.94</td>\n",
       "      <td>98.32</td>\n",
       "      <td>-2.62</td>\n",
       "    </tr>\n",
       "    <tr>\n",
       "      <th>2021-10-05</th>\n",
       "      <td>139.49</td>\n",
       "      <td>142.24</td>\n",
       "      <td>139.36</td>\n",
       "      <td>141.11</td>\n",
       "      <td>140.90</td>\n",
       "      <td>80.86</td>\n",
       "      <td>1.62</td>\n",
       "    </tr>\n",
       "    <tr>\n",
       "      <th>2021-10-06</th>\n",
       "      <td>139.47</td>\n",
       "      <td>142.15</td>\n",
       "      <td>138.37</td>\n",
       "      <td>142.00</td>\n",
       "      <td>141.79</td>\n",
       "      <td>83.22</td>\n",
       "      <td>2.53</td>\n",
       "    </tr>\n",
       "    <tr>\n",
       "      <th>2021-10-13</th>\n",
       "      <td>141.24</td>\n",
       "      <td>141.40</td>\n",
       "      <td>139.20</td>\n",
       "      <td>140.91</td>\n",
       "      <td>140.70</td>\n",
       "      <td>78.76</td>\n",
       "      <td>-0.33</td>\n",
       "    </tr>\n",
       "    <tr>\n",
       "      <th>2021-10-18</th>\n",
       "      <td>143.45</td>\n",
       "      <td>146.84</td>\n",
       "      <td>143.16</td>\n",
       "      <td>146.55</td>\n",
       "      <td>146.34</td>\n",
       "      <td>85.59</td>\n",
       "      <td>3.10</td>\n",
       "    </tr>\n",
       "    <tr>\n",
       "      <th>2021-10-28</th>\n",
       "      <td>149.82</td>\n",
       "      <td>153.17</td>\n",
       "      <td>149.72</td>\n",
       "      <td>152.57</td>\n",
       "      <td>152.35</td>\n",
       "      <td>100.08</td>\n",
       "      <td>2.75</td>\n",
       "    </tr>\n",
       "    <tr>\n",
       "      <th>2021-10-29</th>\n",
       "      <td>147.22</td>\n",
       "      <td>149.94</td>\n",
       "      <td>146.41</td>\n",
       "      <td>149.80</td>\n",
       "      <td>149.58</td>\n",
       "      <td>124.85</td>\n",
       "      <td>2.58</td>\n",
       "    </tr>\n",
       "    <tr>\n",
       "      <th>2021-11-17</th>\n",
       "      <td>151.00</td>\n",
       "      <td>155.00</td>\n",
       "      <td>150.99</td>\n",
       "      <td>153.49</td>\n",
       "      <td>153.49</td>\n",
       "      <td>88.81</td>\n",
       "      <td>2.49</td>\n",
       "    </tr>\n",
       "    <tr>\n",
       "      <th>2021-11-18</th>\n",
       "      <td>153.71</td>\n",
       "      <td>158.67</td>\n",
       "      <td>153.05</td>\n",
       "      <td>157.87</td>\n",
       "      <td>157.87</td>\n",
       "      <td>137.83</td>\n",
       "      <td>4.16</td>\n",
       "    </tr>\n",
       "    <tr>\n",
       "      <th>2021-11-19</th>\n",
       "      <td>157.65</td>\n",
       "      <td>161.02</td>\n",
       "      <td>156.53</td>\n",
       "      <td>160.55</td>\n",
       "      <td>160.55</td>\n",
       "      <td>117.31</td>\n",
       "      <td>2.90</td>\n",
       "    </tr>\n",
       "  </tbody>\n",
       "</table>\n",
       "</div>"
      ],
      "text/plain": [
       "              open    high     low   close  adjclose  volume  price_change\n",
       "Date                                                                      \n",
       "2021-05-21  127.82  128.00  125.21  125.43    125.06   79.30         -2.39\n",
       "2021-05-27  126.44  127.64  125.08  125.28    124.91   94.63         -1.16\n",
       "2021-06-14  127.82  130.54  127.07  130.48    130.09   96.91          2.66\n",
       "2021-06-16  130.37  130.89  128.46  130.15    129.77   91.81         -0.22\n",
       "2021-06-17  129.80  132.55  129.65  131.79    131.40   96.72          1.99\n",
       "2021-06-18  130.71  131.51  130.24  130.46    130.07  108.95         -0.25\n",
       "2021-06-21  130.30  132.41  129.21  132.30    131.91   79.66          2.00\n",
       "2021-07-02  137.90  140.00  137.75  139.96    139.55   78.85          2.06\n",
       "2021-07-06  140.07  143.15  140.07  142.02    141.60  108.18          1.95\n",
       "2021-07-07  143.54  144.89  142.66  144.57    144.14  104.91          1.03\n",
       "2021-07-08  141.58  144.06  140.67  143.24    142.82  105.58          1.66\n",
       "2021-07-09  142.75  145.65  142.65  145.11    144.68   99.89          2.36\n",
       "2021-07-13  144.03  147.46  143.63  145.64    145.21  100.83          1.61\n",
       "2021-07-14  148.10  149.57  147.68  149.15    148.71  127.05          1.05\n",
       "2021-07-15  149.24  150.00  147.09  148.48    148.04  106.82         -0.76\n",
       "2021-07-16  148.46  149.76  145.88  146.39    145.96   93.25         -2.07\n",
       "2021-07-19  143.75  144.07  141.67  142.45    142.03  121.43         -1.30\n",
       "2021-07-20  143.46  147.10  142.96  146.15    145.72   96.35          2.69\n",
       "2021-07-22  145.94  148.20  145.81  146.80    146.37   77.34          0.86\n",
       "2021-07-27  149.12  149.21  145.55  146.77    146.34  104.82         -2.35\n",
       "2021-07-28  144.81  146.97  142.54  144.98    144.55  118.93          0.17\n",
       "2021-08-16  148.54  151.19  146.47  151.12    150.90  103.30          2.58\n",
       "2021-08-17  150.23  151.68  149.09  150.19    149.97   92.23         -0.04\n",
       "2021-08-18  149.80  150.72  146.15  146.36    146.15   86.33         -3.44\n",
       "2021-08-19  145.03  148.00  144.50  146.70    146.49   86.96          1.67\n",
       "2021-08-30  149.00  153.49  148.61  153.12    152.90   90.96          4.12\n",
       "2021-08-31  152.66  152.80  151.29  151.83    151.61   86.45         -0.83\n",
       "2021-09-01  152.83  154.98  152.34  152.51    152.29   80.31         -0.32\n",
       "2021-09-07  154.97  157.26  154.39  156.69    156.46   82.28          1.72\n",
       "2021-09-10  155.00  155.48  148.70  148.97    148.75  140.65         -6.03\n",
       "2021-09-13  150.63  151.42  148.75  149.55    149.33  102.40         -1.08\n",
       "2021-09-14  150.35  151.07  146.91  148.12    147.90  109.30         -2.23\n",
       "2021-09-15  148.56  149.44  146.37  149.03    148.81   83.28          0.47\n",
       "2021-09-17  148.82  148.82  145.76  146.06    145.85  129.87         -2.76\n",
       "2021-09-20  143.80  144.84  141.27  142.94    142.73  123.48         -0.86\n",
       "2021-09-28  143.25  144.75  141.69  141.91    141.70  108.97         -1.34\n",
       "2021-09-30  143.66  144.38  141.28  141.50    141.29   88.93         -2.16\n",
       "2021-10-01  141.90  142.92  139.11  142.65    142.44   94.64          0.75\n",
       "2021-10-04  141.76  142.21  138.27  139.14    138.94   98.32         -2.62\n",
       "2021-10-05  139.49  142.24  139.36  141.11    140.90   80.86          1.62\n",
       "2021-10-06  139.47  142.15  138.37  142.00    141.79   83.22          2.53\n",
       "2021-10-13  141.24  141.40  139.20  140.91    140.70   78.76         -0.33\n",
       "2021-10-18  143.45  146.84  143.16  146.55    146.34   85.59          3.10\n",
       "2021-10-28  149.82  153.17  149.72  152.57    152.35  100.08          2.75\n",
       "2021-10-29  147.22  149.94  146.41  149.80    149.58  124.85          2.58\n",
       "2021-11-17  151.00  155.00  150.99  153.49    153.49   88.81          2.49\n",
       "2021-11-18  153.71  158.67  153.05  157.87    157.87  137.83          4.16\n",
       "2021-11-19  157.65  161.02  156.53  160.55    160.55  117.31          2.90"
      ]
     },
     "execution_count": 73,
     "metadata": {},
     "output_type": "execute_result"
    }
   ],
   "source": [
    "dataf2= dataf[(dataf['volume']>avg) & (dataf['close']>125)]\n",
    "dataf2"
   ]
  },
  {
   "cell_type": "markdown",
   "metadata": {},
   "source": [
    "### Question 18: Write out to disk the DataFrame created in the previous step."
   ]
  },
  {
   "cell_type": "code",
   "execution_count": 74,
   "metadata": {},
   "outputs": [],
   "source": [
    "dataf2.to_csv(\"Project4.csv\")"
   ]
  },
  {
   "cell_type": "markdown",
   "metadata": {},
   "source": [
    "### Question 19: Code that displays my userid as well as the time at which the code was executed"
   ]
  },
  {
   "cell_type": "code",
   "execution_count": 213,
   "metadata": {},
   "outputs": [
    {
     "name": "stdout",
     "output_type": "stream",
     "text": [
      "\n",
      " Finished execution at  2021-12-02 18:39:35.110591\n",
      "iciar\n"
     ]
    }
   ],
   "source": [
    "import datetime\n",
    "import getpass\n",
    "print(\"\\n\",\"Finished execution at \",datetime.datetime.now())\n",
    "print(getpass.getuser())"
   ]
  },
  {
   "cell_type": "code",
   "execution_count": null,
   "metadata": {},
   "outputs": [],
   "source": []
  }
 ],
 "metadata": {
  "kernelspec": {
   "display_name": "Python 3",
   "language": "python",
   "name": "python3"
  },
  "language_info": {
   "codemirror_mode": {
    "name": "ipython",
    "version": 3
   },
   "file_extension": ".py",
   "mimetype": "text/x-python",
   "name": "python",
   "nbconvert_exporter": "python",
   "pygments_lexer": "ipython3",
   "version": "3.8.8"
  }
 },
 "nbformat": 4,
 "nbformat_minor": 2
}
